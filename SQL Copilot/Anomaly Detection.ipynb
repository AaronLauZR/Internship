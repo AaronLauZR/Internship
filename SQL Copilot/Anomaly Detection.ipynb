{
 "cells": [
  {
   "cell_type": "code",
   "execution_count": 276,
   "id": "731c4184",
   "metadata": {},
   "outputs": [],
   "source": [
    "# Import necessary modules\n",
    "import pandas as pd\n",
    "import numpy as np\n",
    "import matplotlib.pyplot as plt\n",
    "import seaborn as sns\n",
    "\n",
    "from sklearn.feature_extraction.text import TfidfVectorizer\n",
    "# Vectorization\n",
    "from sklearn.preprocessing import OneHotEncoder\n"
   ]
  },
  {
   "cell_type": "code",
   "execution_count": 256,
   "id": "6fa24e4f",
   "metadata": {},
   "outputs": [],
   "source": [
    "account_path = 'GL_ACC_202311280837.csv'\n",
    "cash_book_path = 'GL_CB_202311280836.csv'\n",
    "cash_book_detail_path ='GL_CBDTL_202311280914.csv'"
   ]
  },
  {
   "cell_type": "code",
   "execution_count": 257,
   "id": "5107c032",
   "metadata": {},
   "outputs": [
    {
     "name": "stderr",
     "output_type": "stream",
     "text": [
      "C:\\Users\\Dan\\AppData\\Local\\Temp\\ipykernel_5448\\3666641412.py:4: DtypeWarning: Columns (13,15,17) have mixed types. Specify dtype option on import or set low_memory=False.\n",
      "  cash_book_detail = pd.read_csv(cash_book_detail_path)\n"
     ]
    }
   ],
   "source": [
    "# Read the CSV file into a pandas DataFrame\n",
    "account = pd.read_csv(account_path)\n",
    "cash_book = pd.read_csv(cash_book_path)\n",
    "cash_book_detail = pd.read_csv(cash_book_detail_path)"
   ]
  },
  {
   "cell_type": "code",
   "execution_count": 258,
   "id": "40173b42",
   "metadata": {},
   "outputs": [
    {
     "data": {
      "text/html": [
       "<div>\n",
       "<style scoped>\n",
       "    .dataframe tbody tr th:only-of-type {\n",
       "        vertical-align: middle;\n",
       "    }\n",
       "\n",
       "    .dataframe tbody tr th {\n",
       "        vertical-align: top;\n",
       "    }\n",
       "\n",
       "    .dataframe thead th {\n",
       "        text-align: right;\n",
       "    }\n",
       "</style>\n",
       "<table border=\"1\" class=\"dataframe\">\n",
       "  <thead>\n",
       "    <tr style=\"text-align: right;\">\n",
       "      <th></th>\n",
       "      <th>DOCKEY</th>\n",
       "      <th>PARENT</th>\n",
       "      <th>CODE</th>\n",
       "      <th>DESCRIPTION</th>\n",
       "      <th>DESCRIPTION2</th>\n",
       "      <th>ACCTYPE</th>\n",
       "      <th>SPECIALACCTYPE</th>\n",
       "      <th>TAX</th>\n",
       "      <th>CASHFLOWTYPE</th>\n",
       "      <th>SIC</th>\n",
       "    </tr>\n",
       "  </thead>\n",
       "  <tbody>\n",
       "    <tr>\n",
       "      <th>0</th>\n",
       "      <td>1</td>\n",
       "      <td>-1</td>\n",
       "      <td>_CP_</td>\n",
       "      <td>EQUITY</td>\n",
       "      <td>NaN</td>\n",
       "      <td>CP</td>\n",
       "      <td></td>\n",
       "      <td>NaN</td>\n",
       "      <td>0</td>\n",
       "      <td>NaN</td>\n",
       "    </tr>\n",
       "    <tr>\n",
       "      <th>1</th>\n",
       "      <td>2</td>\n",
       "      <td>1</td>\n",
       "      <td>100-000</td>\n",
       "      <td>Capital</td>\n",
       "      <td>NaN</td>\n",
       "      <td>CP</td>\n",
       "      <td></td>\n",
       "      <td>NaN</td>\n",
       "      <td>0</td>\n",
       "      <td>NaN</td>\n",
       "    </tr>\n",
       "    <tr>\n",
       "      <th>2</th>\n",
       "      <td>3</td>\n",
       "      <td>-1</td>\n",
       "      <td>_RV_</td>\n",
       "      <td>RESERVE</td>\n",
       "      <td>NaN</td>\n",
       "      <td>RV</td>\n",
       "      <td></td>\n",
       "      <td>NaN</td>\n",
       "      <td>0</td>\n",
       "      <td>NaN</td>\n",
       "    </tr>\n",
       "    <tr>\n",
       "      <th>3</th>\n",
       "      <td>4</td>\n",
       "      <td>-1</td>\n",
       "      <td>_RE_</td>\n",
       "      <td>RETAINED EARNING</td>\n",
       "      <td>NaN</td>\n",
       "      <td>RE</td>\n",
       "      <td></td>\n",
       "      <td>NaN</td>\n",
       "      <td>0</td>\n",
       "      <td>NaN</td>\n",
       "    </tr>\n",
       "    <tr>\n",
       "      <th>4</th>\n",
       "      <td>5</td>\n",
       "      <td>4</td>\n",
       "      <td>150-000</td>\n",
       "      <td>Retained Earning</td>\n",
       "      <td>NaN</td>\n",
       "      <td>RE</td>\n",
       "      <td></td>\n",
       "      <td>NaN</td>\n",
       "      <td>0</td>\n",
       "      <td>NaN</td>\n",
       "    </tr>\n",
       "  </tbody>\n",
       "</table>\n",
       "</div>"
      ],
      "text/plain": [
       "   DOCKEY  PARENT     CODE       DESCRIPTION DESCRIPTION2 ACCTYPE  \\\n",
       "0       1      -1     _CP_            EQUITY          NaN      CP   \n",
       "1       2       1  100-000           Capital          NaN      CP   \n",
       "2       3      -1     _RV_           RESERVE          NaN      RV   \n",
       "3       4      -1     _RE_  RETAINED EARNING          NaN      RE   \n",
       "4       5       4  150-000  Retained Earning          NaN      RE   \n",
       "\n",
       "  SPECIALACCTYPE  TAX  CASHFLOWTYPE  SIC  \n",
       "0                 NaN             0  NaN  \n",
       "1                 NaN             0  NaN  \n",
       "2                 NaN             0  NaN  \n",
       "3                 NaN             0  NaN  \n",
       "4                 NaN             0  NaN  "
      ]
     },
     "execution_count": 258,
     "metadata": {},
     "output_type": "execute_result"
    }
   ],
   "source": [
    "account.head()"
   ]
  },
  {
   "cell_type": "code",
   "execution_count": 259,
   "id": "5223681b",
   "metadata": {},
   "outputs": [
    {
     "data": {
      "text/html": [
       "<div>\n",
       "<style scoped>\n",
       "    .dataframe tbody tr th:only-of-type {\n",
       "        vertical-align: middle;\n",
       "    }\n",
       "\n",
       "    .dataframe tbody tr th {\n",
       "        vertical-align: top;\n",
       "    }\n",
       "\n",
       "    .dataframe thead th {\n",
       "        text-align: right;\n",
       "    }\n",
       "</style>\n",
       "<table border=\"1\" class=\"dataframe\">\n",
       "  <thead>\n",
       "    <tr style=\"text-align: right;\">\n",
       "      <th></th>\n",
       "      <th>DOCKEY</th>\n",
       "      <th>DOCNO</th>\n",
       "      <th>DOCTYPE</th>\n",
       "      <th>DOCDATE</th>\n",
       "      <th>POSTDATE</th>\n",
       "      <th>TAXDATE</th>\n",
       "      <th>DESCRIPTION</th>\n",
       "      <th>DESCRIPTION2</th>\n",
       "      <th>PAYMENTMETHOD</th>\n",
       "      <th>AREA</th>\n",
       "      <th>...</th>\n",
       "      <th>LOCALDOCAMT</th>\n",
       "      <th>FROMDOCTYPE</th>\n",
       "      <th>BOUNCEDDATE</th>\n",
       "      <th>GLTRANSID</th>\n",
       "      <th>CANCELLED</th>\n",
       "      <th>DEPOSITKEY</th>\n",
       "      <th>UPDATECOUNT</th>\n",
       "      <th>PRINTCOUNT</th>\n",
       "      <th>ATTACHMENTS</th>\n",
       "      <th>NOTE</th>\n",
       "    </tr>\n",
       "  </thead>\n",
       "  <tbody>\n",
       "    <tr>\n",
       "      <th>0</th>\n",
       "      <td>320</td>\n",
       "      <td>PV-1311/001</td>\n",
       "      <td>PV</td>\n",
       "      <td>2013-11-30</td>\n",
       "      <td>2013-11-30</td>\n",
       "      <td>2013-11-30</td>\n",
       "      <td>NG KOK LIANG</td>\n",
       "      <td>Payment For SSM Registration and Printing</td>\n",
       "      <td>301-001</td>\n",
       "      <td>----</td>\n",
       "      <td>...</td>\n",
       "      <td>3209.00</td>\n",
       "      <td>NaN</td>\n",
       "      <td>NaN</td>\n",
       "      <td>167</td>\n",
       "      <td>F</td>\n",
       "      <td>NaN</td>\n",
       "      <td>NaN</td>\n",
       "      <td>0</td>\n",
       "      <td>NaN</td>\n",
       "      <td>NaN</td>\n",
       "    </tr>\n",
       "    <tr>\n",
       "      <th>1</th>\n",
       "      <td>322</td>\n",
       "      <td>PV-1311/002</td>\n",
       "      <td>PV</td>\n",
       "      <td>2013-11-20</td>\n",
       "      <td>2013-11-20</td>\n",
       "      <td>2013-11-20</td>\n",
       "      <td>OLIVER LEE FU ONN</td>\n",
       "      <td>Payment For Nov'13 Staff Salary</td>\n",
       "      <td>301-001</td>\n",
       "      <td>----</td>\n",
       "      <td>...</td>\n",
       "      <td>3270.25</td>\n",
       "      <td>NaN</td>\n",
       "      <td>NaN</td>\n",
       "      <td>168</td>\n",
       "      <td>F</td>\n",
       "      <td>NaN</td>\n",
       "      <td>NaN</td>\n",
       "      <td>0</td>\n",
       "      <td>NaN</td>\n",
       "      <td>NaN</td>\n",
       "    </tr>\n",
       "    <tr>\n",
       "      <th>2</th>\n",
       "      <td>328</td>\n",
       "      <td>PV-1311/003</td>\n",
       "      <td>PV</td>\n",
       "      <td>2013-11-30</td>\n",
       "      <td>2013-11-30</td>\n",
       "      <td>2013-11-30</td>\n",
       "      <td>KUMPULAN WANG SIMPANAN PEKERJA</td>\n",
       "      <td>Payment For Nov'13 Staff EPF Contribution</td>\n",
       "      <td>301-001</td>\n",
       "      <td>----</td>\n",
       "      <td>...</td>\n",
       "      <td>480.00</td>\n",
       "      <td>NaN</td>\n",
       "      <td>NaN</td>\n",
       "      <td>169</td>\n",
       "      <td>F</td>\n",
       "      <td>NaN</td>\n",
       "      <td>NaN</td>\n",
       "      <td>0</td>\n",
       "      <td>NaN</td>\n",
       "      <td>NaN</td>\n",
       "    </tr>\n",
       "    <tr>\n",
       "      <th>3</th>\n",
       "      <td>330</td>\n",
       "      <td>PV-1311/004</td>\n",
       "      <td>PV</td>\n",
       "      <td>2013-11-30</td>\n",
       "      <td>2013-11-30</td>\n",
       "      <td>2013-11-30</td>\n",
       "      <td>PERTUBUHAN KESELAMATAN SOSIAL</td>\n",
       "      <td>Payment For Nov'13 Staff Socso</td>\n",
       "      <td>301-001</td>\n",
       "      <td>----</td>\n",
       "      <td>...</td>\n",
       "      <td>43.90</td>\n",
       "      <td>NaN</td>\n",
       "      <td>NaN</td>\n",
       "      <td>170</td>\n",
       "      <td>F</td>\n",
       "      <td>NaN</td>\n",
       "      <td>NaN</td>\n",
       "      <td>0</td>\n",
       "      <td>NaN</td>\n",
       "      <td>NaN</td>\n",
       "    </tr>\n",
       "    <tr>\n",
       "      <th>4</th>\n",
       "      <td>332</td>\n",
       "      <td>PV-1312/001</td>\n",
       "      <td>PV</td>\n",
       "      <td>2013-12-31</td>\n",
       "      <td>2013-12-31</td>\n",
       "      <td>2013-12-31</td>\n",
       "      <td>KUMPULAN WANG SIMPANAN PEKERJA</td>\n",
       "      <td>Payment For Dec'13 Staff EPF Contribution</td>\n",
       "      <td>301-001</td>\n",
       "      <td>----</td>\n",
       "      <td>...</td>\n",
       "      <td>480.00</td>\n",
       "      <td>NaN</td>\n",
       "      <td>NaN</td>\n",
       "      <td>171</td>\n",
       "      <td>F</td>\n",
       "      <td>NaN</td>\n",
       "      <td>NaN</td>\n",
       "      <td>0</td>\n",
       "      <td>NaN</td>\n",
       "      <td>NaN</td>\n",
       "    </tr>\n",
       "  </tbody>\n",
       "</table>\n",
       "<p>5 rows × 29 columns</p>\n",
       "</div>"
      ],
      "text/plain": [
       "   DOCKEY        DOCNO DOCTYPE     DOCDATE    POSTDATE     TAXDATE  \\\n",
       "0     320  PV-1311/001      PV  2013-11-30  2013-11-30  2013-11-30   \n",
       "1     322  PV-1311/002      PV  2013-11-20  2013-11-20  2013-11-20   \n",
       "2     328  PV-1311/003      PV  2013-11-30  2013-11-30  2013-11-30   \n",
       "3     330  PV-1311/004      PV  2013-11-30  2013-11-30  2013-11-30   \n",
       "4     332  PV-1312/001      PV  2013-12-31  2013-12-31  2013-12-31   \n",
       "\n",
       "                      DESCRIPTION                               DESCRIPTION2  \\\n",
       "0                    NG KOK LIANG  Payment For SSM Registration and Printing   \n",
       "1               OLIVER LEE FU ONN            Payment For Nov'13 Staff Salary   \n",
       "2  KUMPULAN WANG SIMPANAN PEKERJA  Payment For Nov'13 Staff EPF Contribution   \n",
       "3   PERTUBUHAN KESELAMATAN SOSIAL             Payment For Nov'13 Staff Socso   \n",
       "4  KUMPULAN WANG SIMPANAN PEKERJA  Payment For Dec'13 Staff EPF Contribution   \n",
       "\n",
       "  PAYMENTMETHOD  AREA  ... LOCALDOCAMT FROMDOCTYPE BOUNCEDDATE GLTRANSID  \\\n",
       "0       301-001  ----  ...     3209.00         NaN         NaN       167   \n",
       "1       301-001  ----  ...     3270.25         NaN         NaN       168   \n",
       "2       301-001  ----  ...      480.00         NaN         NaN       169   \n",
       "3       301-001  ----  ...       43.90         NaN         NaN       170   \n",
       "4       301-001  ----  ...      480.00         NaN         NaN       171   \n",
       "\n",
       "  CANCELLED  DEPOSITKEY  UPDATECOUNT PRINTCOUNT  ATTACHMENTS  NOTE  \n",
       "0         F         NaN          NaN          0          NaN   NaN  \n",
       "1         F         NaN          NaN          0          NaN   NaN  \n",
       "2         F         NaN          NaN          0          NaN   NaN  \n",
       "3         F         NaN          NaN          0          NaN   NaN  \n",
       "4         F         NaN          NaN          0          NaN   NaN  \n",
       "\n",
       "[5 rows x 29 columns]"
      ]
     },
     "execution_count": 259,
     "metadata": {},
     "output_type": "execute_result"
    }
   ],
   "source": [
    "cash_book.head()"
   ]
  },
  {
   "cell_type": "code",
   "execution_count": 260,
   "id": "e86485f2",
   "metadata": {},
   "outputs": [
    {
     "data": {
      "text/html": [
       "<div>\n",
       "<style scoped>\n",
       "    .dataframe tbody tr th:only-of-type {\n",
       "        vertical-align: middle;\n",
       "    }\n",
       "\n",
       "    .dataframe tbody tr th {\n",
       "        vertical-align: top;\n",
       "    }\n",
       "\n",
       "    .dataframe thead th {\n",
       "        text-align: right;\n",
       "    }\n",
       "</style>\n",
       "<table border=\"1\" class=\"dataframe\">\n",
       "  <thead>\n",
       "    <tr style=\"text-align: right;\">\n",
       "      <th></th>\n",
       "      <th>DTLKEY</th>\n",
       "      <th>DOCKEY</th>\n",
       "      <th>SEQ</th>\n",
       "      <th>AREA</th>\n",
       "      <th>AGENT</th>\n",
       "      <th>PROJECT</th>\n",
       "      <th>CODE</th>\n",
       "      <th>DESCRIPTION</th>\n",
       "      <th>GST_DOCDATE</th>\n",
       "      <th>GST_DOCNO</th>\n",
       "      <th>...</th>\n",
       "      <th>TARIFF</th>\n",
       "      <th>TAXRATE</th>\n",
       "      <th>TAXAMT</th>\n",
       "      <th>LOCALTAXAMT</th>\n",
       "      <th>TAXINCLUSIVE</th>\n",
       "      <th>AMOUNT</th>\n",
       "      <th>LOCALAMOUNT</th>\n",
       "      <th>CURRENCYCODE</th>\n",
       "      <th>CURRENCYRATE</th>\n",
       "      <th>CURRENCYAMOUNT</th>\n",
       "    </tr>\n",
       "  </thead>\n",
       "  <tbody>\n",
       "    <tr>\n",
       "      <th>0</th>\n",
       "      <td>321</td>\n",
       "      <td>320</td>\n",
       "      <td>1</td>\n",
       "      <td>----</td>\n",
       "      <td>----</td>\n",
       "      <td>----</td>\n",
       "      <td>711-000</td>\n",
       "      <td>Ng Kok Liang-SSM Registration &amp; Documents Prin...</td>\n",
       "      <td>NaN</td>\n",
       "      <td>NaN</td>\n",
       "      <td>...</td>\n",
       "      <td>NaN</td>\n",
       "      <td>NaN</td>\n",
       "      <td>0.0</td>\n",
       "      <td>0.0</td>\n",
       "      <td>0</td>\n",
       "      <td>3209.00</td>\n",
       "      <td>3209.00</td>\n",
       "      <td>----</td>\n",
       "      <td>1.0</td>\n",
       "      <td>3209.00</td>\n",
       "    </tr>\n",
       "    <tr>\n",
       "      <th>1</th>\n",
       "      <td>323</td>\n",
       "      <td>322</td>\n",
       "      <td>1</td>\n",
       "      <td>----</td>\n",
       "      <td>----</td>\n",
       "      <td>----</td>\n",
       "      <td>719-000</td>\n",
       "      <td>Oliver Lee Fu Onn-Nov'13 Salary</td>\n",
       "      <td>NaN</td>\n",
       "      <td>NaN</td>\n",
       "      <td>...</td>\n",
       "      <td>NaN</td>\n",
       "      <td>NaN</td>\n",
       "      <td>0.0</td>\n",
       "      <td>0.0</td>\n",
       "      <td>0</td>\n",
       "      <td>2000.00</td>\n",
       "      <td>2000.00</td>\n",
       "      <td>----</td>\n",
       "      <td>1.0</td>\n",
       "      <td>2000.00</td>\n",
       "    </tr>\n",
       "    <tr>\n",
       "      <th>2</th>\n",
       "      <td>325</td>\n",
       "      <td>322</td>\n",
       "      <td>2</td>\n",
       "      <td>----</td>\n",
       "      <td>----</td>\n",
       "      <td>----</td>\n",
       "      <td>720-000</td>\n",
       "      <td>Oliver Lee Fu Onn-Nov'13 Allowance</td>\n",
       "      <td>NaN</td>\n",
       "      <td>NaN</td>\n",
       "      <td>...</td>\n",
       "      <td>NaN</td>\n",
       "      <td>NaN</td>\n",
       "      <td>0.0</td>\n",
       "      <td>0.0</td>\n",
       "      <td>0</td>\n",
       "      <td>1500.00</td>\n",
       "      <td>1500.00</td>\n",
       "      <td>----</td>\n",
       "      <td>1.0</td>\n",
       "      <td>1500.00</td>\n",
       "    </tr>\n",
       "    <tr>\n",
       "      <th>3</th>\n",
       "      <td>326</td>\n",
       "      <td>322</td>\n",
       "      <td>3</td>\n",
       "      <td>----</td>\n",
       "      <td>----</td>\n",
       "      <td>----</td>\n",
       "      <td>708-000</td>\n",
       "      <td>Oliver Lee Fu Onn-Nov'13 Salary</td>\n",
       "      <td>NaN</td>\n",
       "      <td>NaN</td>\n",
       "      <td>...</td>\n",
       "      <td>NaN</td>\n",
       "      <td>NaN</td>\n",
       "      <td>0.0</td>\n",
       "      <td>0.0</td>\n",
       "      <td>0</td>\n",
       "      <td>-220.00</td>\n",
       "      <td>-220.00</td>\n",
       "      <td>----</td>\n",
       "      <td>1.0</td>\n",
       "      <td>-220.00</td>\n",
       "    </tr>\n",
       "    <tr>\n",
       "      <th>4</th>\n",
       "      <td>327</td>\n",
       "      <td>322</td>\n",
       "      <td>4</td>\n",
       "      <td>----</td>\n",
       "      <td>----</td>\n",
       "      <td>----</td>\n",
       "      <td>721-000</td>\n",
       "      <td>Oliver Lee Fu Onn-Nov'13 Salary</td>\n",
       "      <td>NaN</td>\n",
       "      <td>NaN</td>\n",
       "      <td>...</td>\n",
       "      <td>NaN</td>\n",
       "      <td>NaN</td>\n",
       "      <td>0.0</td>\n",
       "      <td>0.0</td>\n",
       "      <td>0</td>\n",
       "      <td>-9.75</td>\n",
       "      <td>-9.75</td>\n",
       "      <td>----</td>\n",
       "      <td>1.0</td>\n",
       "      <td>-9.75</td>\n",
       "    </tr>\n",
       "  </tbody>\n",
       "</table>\n",
       "<p>5 rows × 26 columns</p>\n",
       "</div>"
      ],
      "text/plain": [
       "   DTLKEY  DOCKEY  SEQ  AREA AGENT PROJECT     CODE  \\\n",
       "0     321     320    1  ----  ----    ----  711-000   \n",
       "1     323     322    1  ----  ----    ----  719-000   \n",
       "2     325     322    2  ----  ----    ----  720-000   \n",
       "3     326     322    3  ----  ----    ----  708-000   \n",
       "4     327     322    4  ----  ----    ----  721-000   \n",
       "\n",
       "                                         DESCRIPTION GST_DOCDATE GST_DOCNO  \\\n",
       "0  Ng Kok Liang-SSM Registration & Documents Prin...         NaN       NaN   \n",
       "1                    Oliver Lee Fu Onn-Nov'13 Salary         NaN       NaN   \n",
       "2                 Oliver Lee Fu Onn-Nov'13 Allowance         NaN       NaN   \n",
       "3                    Oliver Lee Fu Onn-Nov'13 Salary         NaN       NaN   \n",
       "4                    Oliver Lee Fu Onn-Nov'13 Salary         NaN       NaN   \n",
       "\n",
       "   ... TARIFF  TAXRATE TAXAMT LOCALTAXAMT  TAXINCLUSIVE   AMOUNT  LOCALAMOUNT  \\\n",
       "0  ...    NaN      NaN    0.0         0.0             0  3209.00      3209.00   \n",
       "1  ...    NaN      NaN    0.0         0.0             0  2000.00      2000.00   \n",
       "2  ...    NaN      NaN    0.0         0.0             0  1500.00      1500.00   \n",
       "3  ...    NaN      NaN    0.0         0.0             0  -220.00      -220.00   \n",
       "4  ...    NaN      NaN    0.0         0.0             0    -9.75        -9.75   \n",
       "\n",
       "  CURRENCYCODE  CURRENCYRATE  CURRENCYAMOUNT  \n",
       "0         ----           1.0         3209.00  \n",
       "1         ----           1.0         2000.00  \n",
       "2         ----           1.0         1500.00  \n",
       "3         ----           1.0         -220.00  \n",
       "4         ----           1.0           -9.75  \n",
       "\n",
       "[5 rows x 26 columns]"
      ]
     },
     "execution_count": 260,
     "metadata": {},
     "output_type": "execute_result"
    }
   ],
   "source": [
    "cash_book_detail.head()"
   ]
  },
  {
   "cell_type": "code",
   "execution_count": 261,
   "id": "74407973",
   "metadata": {},
   "outputs": [
    {
     "name": "stdout",
     "output_type": "stream",
     "text": [
      "<class 'pandas.core.frame.DataFrame'>\n",
      "RangeIndex: 17806 entries, 0 to 17805\n",
      "Data columns (total 29 columns):\n",
      " #   Column             Non-Null Count  Dtype  \n",
      "---  ------             --------------  -----  \n",
      " 0   DOCKEY             17806 non-null  int64  \n",
      " 1   DOCNO              17806 non-null  object \n",
      " 2   DOCTYPE            17806 non-null  object \n",
      " 3   DOCDATE            17806 non-null  object \n",
      " 4   POSTDATE           17806 non-null  object \n",
      " 5   TAXDATE            17806 non-null  object \n",
      " 6   DESCRIPTION        17806 non-null  object \n",
      " 7   DESCRIPTION2       8175 non-null   object \n",
      " 8   PAYMENTMETHOD      17806 non-null  object \n",
      " 9   AREA               17806 non-null  object \n",
      " 10  AGENT              17806 non-null  object \n",
      " 11  PROJECT            17806 non-null  object \n",
      " 12  JOURNAL            17806 non-null  object \n",
      " 13  CHEQUENUMBER       14104 non-null  object \n",
      " 14  CURRENCYCODE       17806 non-null  object \n",
      " 15  CURRENCYRATE       17806 non-null  float64\n",
      " 16  BANKCHARGE         17757 non-null  float64\n",
      " 17  BANKCHARGEACCOUNT  781 non-null    object \n",
      " 18  DOCAMT             17806 non-null  float64\n",
      " 19  LOCALDOCAMT        17806 non-null  float64\n",
      " 20  FROMDOCTYPE        6422 non-null   object \n",
      " 21  BOUNCEDDATE        23 non-null     object \n",
      " 22  GLTRANSID          17806 non-null  int64  \n",
      " 23  CANCELLED          17806 non-null  object \n",
      " 24  DEPOSITKEY         0 non-null      float64\n",
      " 25  UPDATECOUNT        4541 non-null   float64\n",
      " 26  PRINTCOUNT         17806 non-null  int64  \n",
      " 27  ATTACHMENTS        0 non-null      float64\n",
      " 28  NOTE               0 non-null      float64\n",
      "dtypes: float64(8), int64(3), object(18)\n",
      "memory usage: 3.9+ MB\n",
      "None\n"
     ]
    }
   ],
   "source": [
    "print(cash_book.info())"
   ]
  },
  {
   "cell_type": "code",
   "execution_count": 262,
   "id": "3d4c0b41",
   "metadata": {},
   "outputs": [
    {
     "name": "stdout",
     "output_type": "stream",
     "text": [
      "<class 'pandas.core.frame.DataFrame'>\n",
      "RangeIndex: 56566 entries, 0 to 56565\n",
      "Data columns (total 26 columns):\n",
      " #   Column          Non-Null Count  Dtype  \n",
      "---  ------          --------------  -----  \n",
      " 0   DTLKEY          56566 non-null  int64  \n",
      " 1   DOCKEY          56566 non-null  int64  \n",
      " 2   SEQ             56566 non-null  int64  \n",
      " 3   AREA            56566 non-null  object \n",
      " 4   AGENT           56566 non-null  object \n",
      " 5   PROJECT         56566 non-null  object \n",
      " 6   CODE            56566 non-null  object \n",
      " 7   DESCRIPTION     56564 non-null  object \n",
      " 8   GST_DOCDATE     27337 non-null  object \n",
      " 9   GST_DOCNO       26807 non-null  object \n",
      " 10  COMPANYNAME     27576 non-null  object \n",
      " 11  REGISTERNO      0 non-null      float64\n",
      " 12  GSTNO           5593 non-null   object \n",
      " 13  PERMITNO        4 non-null      object \n",
      " 14  COUNTRY         0 non-null      float64\n",
      " 15  TAX             6747 non-null   object \n",
      " 16  TARIFF          0 non-null      float64\n",
      " 17  TAXRATE         5707 non-null   object \n",
      " 18  TAXAMT          56566 non-null  float64\n",
      " 19  LOCALTAXAMT     56566 non-null  float64\n",
      " 20  TAXINCLUSIVE    56566 non-null  int64  \n",
      " 21  AMOUNT          56566 non-null  float64\n",
      " 22  LOCALAMOUNT     56566 non-null  float64\n",
      " 23  CURRENCYCODE    56566 non-null  object \n",
      " 24  CURRENCYRATE    56566 non-null  float64\n",
      " 25  CURRENCYAMOUNT  56566 non-null  float64\n",
      "dtypes: float64(9), int64(4), object(13)\n",
      "memory usage: 11.2+ MB\n",
      "None\n"
     ]
    }
   ],
   "source": [
    "print(cash_book_detail.info())"
   ]
  },
  {
   "cell_type": "code",
   "execution_count": 263,
   "id": "918dc374",
   "metadata": {},
   "outputs": [
    {
     "name": "stdout",
     "output_type": "stream",
     "text": [
      "Index(['DOCKEY', 'DOCNO', 'DOCTYPE', 'DOCDATE', 'POSTDATE', 'TAXDATE',\n",
      "       'DESCRIPTION', 'DESCRIPTION2', 'PAYMENTMETHOD', 'AREA', 'AGENT',\n",
      "       'PROJECT', 'JOURNAL', 'CHEQUENUMBER', 'CURRENCYCODE', 'CURRENCYRATE',\n",
      "       'BANKCHARGE', 'BANKCHARGEACCOUNT', 'DOCAMT', 'LOCALDOCAMT',\n",
      "       'FROMDOCTYPE', 'BOUNCEDDATE', 'GLTRANSID', 'CANCELLED', 'DEPOSITKEY',\n",
      "       'UPDATECOUNT', 'PRINTCOUNT', 'ATTACHMENTS', 'NOTE'],\n",
      "      dtype='object')\n"
     ]
    }
   ],
   "source": [
    "cash_book_column = cash_book.columns\n",
    "print(cash_book_column)"
   ]
  },
  {
   "cell_type": "code",
   "execution_count": 264,
   "id": "29b34e18",
   "metadata": {},
   "outputs": [
    {
     "name": "stdout",
     "output_type": "stream",
     "text": [
      "Index(['DTLKEY', 'DOCKEY', 'SEQ', 'AREA', 'AGENT', 'PROJECT', 'CODE',\n",
      "       'DESCRIPTION', 'GST_DOCDATE', 'GST_DOCNO', 'COMPANYNAME', 'REGISTERNO',\n",
      "       'GSTNO', 'PERMITNO', 'COUNTRY', 'TAX', 'TARIFF', 'TAXRATE', 'TAXAMT',\n",
      "       'LOCALTAXAMT', 'TAXINCLUSIVE', 'AMOUNT', 'LOCALAMOUNT', 'CURRENCYCODE',\n",
      "       'CURRENCYRATE', 'CURRENCYAMOUNT'],\n",
      "      dtype='object')\n"
     ]
    }
   ],
   "source": [
    "cash_book_detail_column = cash_book_detail.columns\n",
    "print(cash_book_detail_column)"
   ]
  },
  {
   "cell_type": "code",
   "execution_count": 265,
   "id": "12b1da22",
   "metadata": {},
   "outputs": [
    {
     "name": "stdout",
     "output_type": "stream",
     "text": [
      "DOCKEY                   0\n",
      "DOCNO                    0\n",
      "DOCTYPE                  0\n",
      "DOCDATE                  0\n",
      "POSTDATE                 0\n",
      "TAXDATE                  0\n",
      "DESCRIPTION              0\n",
      "DESCRIPTION2          9631\n",
      "PAYMENTMETHOD            0\n",
      "AREA                     0\n",
      "AGENT                    0\n",
      "PROJECT                  0\n",
      "JOURNAL                  0\n",
      "CHEQUENUMBER          3702\n",
      "CURRENCYCODE             0\n",
      "CURRENCYRATE             0\n",
      "BANKCHARGE              49\n",
      "BANKCHARGEACCOUNT    17025\n",
      "DOCAMT                   0\n",
      "LOCALDOCAMT              0\n",
      "FROMDOCTYPE          11384\n",
      "BOUNCEDDATE          17783\n",
      "GLTRANSID                0\n",
      "CANCELLED                0\n",
      "DEPOSITKEY           17806\n",
      "UPDATECOUNT          13265\n",
      "PRINTCOUNT               0\n",
      "ATTACHMENTS          17806\n",
      "NOTE                 17806\n",
      "dtype: int64\n"
     ]
    }
   ],
   "source": [
    "print(cash_book.isnull().sum())"
   ]
  },
  {
   "cell_type": "code",
   "execution_count": 266,
   "id": "b765da45",
   "metadata": {},
   "outputs": [
    {
     "name": "stdout",
     "output_type": "stream",
     "text": [
      "DTLKEY                0\n",
      "DOCKEY                0\n",
      "SEQ                   0\n",
      "AREA                  0\n",
      "AGENT                 0\n",
      "PROJECT               0\n",
      "CODE                  0\n",
      "DESCRIPTION           2\n",
      "GST_DOCDATE       29229\n",
      "GST_DOCNO         29759\n",
      "COMPANYNAME       28990\n",
      "REGISTERNO        56566\n",
      "GSTNO             50973\n",
      "PERMITNO          56562\n",
      "COUNTRY           56566\n",
      "TAX               49819\n",
      "TARIFF            56566\n",
      "TAXRATE           50859\n",
      "TAXAMT                0\n",
      "LOCALTAXAMT           0\n",
      "TAXINCLUSIVE          0\n",
      "AMOUNT                0\n",
      "LOCALAMOUNT           0\n",
      "CURRENCYCODE          0\n",
      "CURRENCYRATE          0\n",
      "CURRENCYAMOUNT        0\n",
      "dtype: int64\n"
     ]
    }
   ],
   "source": [
    "print(cash_book_detail.isnull().sum())"
   ]
  },
  {
   "cell_type": "code",
   "execution_count": 267,
   "id": "d8d34ba9",
   "metadata": {},
   "outputs": [
    {
     "name": "stdout",
     "output_type": "stream",
     "text": [
      "DOCKEY               17806\n",
      "DOCNO                17806\n",
      "DOCTYPE                  2\n",
      "DOCDATE               1775\n",
      "POSTDATE              1775\n",
      "TAXDATE               1735\n",
      "DESCRIPTION           1585\n",
      "DESCRIPTION2          5956\n",
      "PAYMENTMETHOD           28\n",
      "AREA                    24\n",
      "AGENT                    8\n",
      "PROJECT                  1\n",
      "JOURNAL                  2\n",
      "CHEQUENUMBER          9902\n",
      "CURRENCYCODE             3\n",
      "CURRENCYRATE           548\n",
      "BANKCHARGE             292\n",
      "BANKCHARGEACCOUNT        1\n",
      "DOCAMT                9012\n",
      "LOCALDOCAMT           9355\n",
      "FROMDOCTYPE              3\n",
      "BOUNCEDDATE             23\n",
      "GLTRANSID            17806\n",
      "CANCELLED                2\n",
      "DEPOSITKEY               0\n",
      "UPDATECOUNT             14\n",
      "PRINTCOUNT               3\n",
      "ATTACHMENTS              0\n",
      "NOTE                     0\n",
      "dtype: int64\n"
     ]
    }
   ],
   "source": [
    "print(cash_book.nunique())"
   ]
  },
  {
   "cell_type": "code",
   "execution_count": 268,
   "id": "3fed0935",
   "metadata": {},
   "outputs": [
    {
     "name": "stdout",
     "output_type": "stream",
     "text": [
      "DTLKEY            56566\n",
      "DOCKEY            17795\n",
      "SEQ                 211\n",
      "AREA                 24\n",
      "AGENT                 8\n",
      "PROJECT               1\n",
      "CODE               1158\n",
      "DESCRIPTION       13465\n",
      "GST_DOCDATE        1881\n",
      "GST_DOCNO         26014\n",
      "COMPANYNAME        4155\n",
      "REGISTERNO            0\n",
      "GSTNO               868\n",
      "PERMITNO              1\n",
      "COUNTRY               0\n",
      "TAX                  13\n",
      "TARIFF                0\n",
      "TAXRATE               2\n",
      "TAXAMT              977\n",
      "LOCALTAXAMT         990\n",
      "TAXINCLUSIVE          2\n",
      "AMOUNT            14180\n",
      "LOCALAMOUNT       14536\n",
      "CURRENCYCODE          5\n",
      "CURRENCYRATE        863\n",
      "CURRENCYAMOUNT    14019\n",
      "dtype: int64\n"
     ]
    }
   ],
   "source": [
    "print(cash_book_detail.nunique())"
   ]
  },
  {
   "cell_type": "code",
   "execution_count": 269,
   "id": "a431c0e9",
   "metadata": {},
   "outputs": [],
   "source": [
    "# Drop unique column\n",
    "cash_book = cash_book.drop(['DOCNO', 'CHEQUENUMBER','GLTRANSID','DEPOSITKEY','FROMDOCTYPE','BANKCHARGE','BANKCHARGEACCOUNT'], axis=1)\n",
    "cash_book_detail = cash_book_detail.drop(['DTLKEY','TARIFF','GSTNO','PERMITNO','REGISTERNO'], axis=1)\n",
    "# Drop unused column\n",
    "cash_book = cash_book.drop(['POSTDATE','AREA','TAXDATE','UPDATECOUNT','CURRENCYCODE','CURRENCYRATE','AGENT','DOCAMT','LOCALDOCAMT','PROJECT','DESCRIPTION', 'DESCRIPTION2','PRINTCOUNT','ATTACHMENTS','NOTE','BOUNCEDDATE'], axis=1)\n",
    "cash_book_detail = cash_book_detail.drop(['AREA','PROJECT','COMPANYNAME','SEQ','CURRENCYCODE','CURRENCYRATE','AMOUNT','LOCALAMOUNT','COUNTRY','GST_DOCDATE','GST_DOCNO','TAXRATE','TAXAMT','LOCALTAXAMT', 'TAXINCLUSIVE','AGENT'], axis=1)"
   ]
  },
  {
   "cell_type": "code",
   "execution_count": 270,
   "id": "22dd13fa",
   "metadata": {},
   "outputs": [],
   "source": [
    "# Merge the DataFrames based on the common key\n",
    "merged_cash_book = pd.merge(cash_book, cash_book_detail, on='DOCKEY')"
   ]
  },
  {
   "cell_type": "code",
   "execution_count": 271,
   "id": "d752ca72",
   "metadata": {},
   "outputs": [],
   "source": [
    "merged_cash_book = merged_cash_book.drop('TAX', axis = 1)\n",
    "merged_cash_book = merged_cash_book.drop('DOCKEY', axis = 1)"
   ]
  },
  {
   "cell_type": "code",
   "execution_count": 272,
   "id": "7f085034",
   "metadata": {},
   "outputs": [
    {
     "data": {
      "text/plain": [
       "Index(['DOCTYPE', 'DOCDATE', 'PAYMENTMETHOD', 'JOURNAL', 'CANCELLED', 'CODE',\n",
       "       'DESCRIPTION', 'CURRENCYAMOUNT'],\n",
       "      dtype='object')"
      ]
     },
     "execution_count": 272,
     "metadata": {},
     "output_type": "execute_result"
    }
   ],
   "source": [
    "merged_cash_book.columns"
   ]
  },
  {
   "cell_type": "code",
   "execution_count": 274,
   "id": "15375d08",
   "metadata": {},
   "outputs": [
    {
     "data": {
      "text/html": [
       "<div>\n",
       "<style scoped>\n",
       "    .dataframe tbody tr th:only-of-type {\n",
       "        vertical-align: middle;\n",
       "    }\n",
       "\n",
       "    .dataframe tbody tr th {\n",
       "        vertical-align: top;\n",
       "    }\n",
       "\n",
       "    .dataframe thead th {\n",
       "        text-align: right;\n",
       "    }\n",
       "</style>\n",
       "<table border=\"1\" class=\"dataframe\">\n",
       "  <thead>\n",
       "    <tr style=\"text-align: right;\">\n",
       "      <th></th>\n",
       "      <th>DOCTYPE</th>\n",
       "      <th>DOCDATE</th>\n",
       "      <th>PAYMENTMETHOD</th>\n",
       "      <th>JOURNAL</th>\n",
       "      <th>CANCELLED</th>\n",
       "      <th>CODE</th>\n",
       "      <th>DESCRIPTION</th>\n",
       "      <th>CURRENCYAMOUNT</th>\n",
       "    </tr>\n",
       "  </thead>\n",
       "  <tbody>\n",
       "    <tr>\n",
       "      <th>0</th>\n",
       "      <td>PV</td>\n",
       "      <td>2013-11-30</td>\n",
       "      <td>301-001</td>\n",
       "      <td>BANK</td>\n",
       "      <td>F</td>\n",
       "      <td>711-000</td>\n",
       "      <td>Ng Kok Liang-SSM Registration &amp; Documents Prin...</td>\n",
       "      <td>3209.00</td>\n",
       "    </tr>\n",
       "    <tr>\n",
       "      <th>1</th>\n",
       "      <td>PV</td>\n",
       "      <td>2013-11-20</td>\n",
       "      <td>301-001</td>\n",
       "      <td>BANK</td>\n",
       "      <td>F</td>\n",
       "      <td>719-000</td>\n",
       "      <td>Oliver Lee Fu Onn-Nov'13 Salary</td>\n",
       "      <td>2000.00</td>\n",
       "    </tr>\n",
       "    <tr>\n",
       "      <th>2</th>\n",
       "      <td>PV</td>\n",
       "      <td>2013-11-20</td>\n",
       "      <td>301-001</td>\n",
       "      <td>BANK</td>\n",
       "      <td>F</td>\n",
       "      <td>720-000</td>\n",
       "      <td>Oliver Lee Fu Onn-Nov'13 Allowance</td>\n",
       "      <td>1500.00</td>\n",
       "    </tr>\n",
       "    <tr>\n",
       "      <th>3</th>\n",
       "      <td>PV</td>\n",
       "      <td>2013-11-20</td>\n",
       "      <td>301-001</td>\n",
       "      <td>BANK</td>\n",
       "      <td>F</td>\n",
       "      <td>708-000</td>\n",
       "      <td>Oliver Lee Fu Onn-Nov'13 Salary</td>\n",
       "      <td>-220.00</td>\n",
       "    </tr>\n",
       "    <tr>\n",
       "      <th>4</th>\n",
       "      <td>PV</td>\n",
       "      <td>2013-11-20</td>\n",
       "      <td>301-001</td>\n",
       "      <td>BANK</td>\n",
       "      <td>F</td>\n",
       "      <td>721-000</td>\n",
       "      <td>Oliver Lee Fu Onn-Nov'13 Salary</td>\n",
       "      <td>-9.75</td>\n",
       "    </tr>\n",
       "  </tbody>\n",
       "</table>\n",
       "</div>"
      ],
      "text/plain": [
       "  DOCTYPE     DOCDATE PAYMENTMETHOD JOURNAL CANCELLED     CODE  \\\n",
       "0      PV  2013-11-30       301-001    BANK         F  711-000   \n",
       "1      PV  2013-11-20       301-001    BANK         F  719-000   \n",
       "2      PV  2013-11-20       301-001    BANK         F  720-000   \n",
       "3      PV  2013-11-20       301-001    BANK         F  708-000   \n",
       "4      PV  2013-11-20       301-001    BANK         F  721-000   \n",
       "\n",
       "                                         DESCRIPTION  CURRENCYAMOUNT  \n",
       "0  Ng Kok Liang-SSM Registration & Documents Prin...         3209.00  \n",
       "1                    Oliver Lee Fu Onn-Nov'13 Salary         2000.00  \n",
       "2                 Oliver Lee Fu Onn-Nov'13 Allowance         1500.00  \n",
       "3                    Oliver Lee Fu Onn-Nov'13 Salary         -220.00  \n",
       "4                    Oliver Lee Fu Onn-Nov'13 Salary           -9.75  "
      ]
     },
     "execution_count": 274,
     "metadata": {},
     "output_type": "execute_result"
    }
   ],
   "source": [
    "merged_cash_book.head()"
   ]
  },
  {
   "cell_type": "code",
   "execution_count": 278,
   "id": "3507c144",
   "metadata": {},
   "outputs": [
    {
     "name": "stdout",
     "output_type": "stream",
     "text": [
      "DOCTYPE           0\n",
      "DOCDATE           0\n",
      "PAYMENTMETHOD     0\n",
      "JOURNAL           0\n",
      "CANCELLED         0\n",
      "CODE              0\n",
      "DESCRIPTION       2\n",
      "CURRENCYAMOUNT    0\n",
      "dtype: int64\n"
     ]
    }
   ],
   "source": [
    "print(merged_cash_book.isnull().sum())"
   ]
  },
  {
   "cell_type": "code",
   "execution_count": 277,
   "id": "c16f140e",
   "metadata": {},
   "outputs": [
    {
     "ename": "ValueError",
     "evalue": "np.nan is an invalid document, expected byte or unicode string.",
     "output_type": "error",
     "traceback": [
      "\u001b[1;31m---------------------------------------------------------------------------\u001b[0m",
      "\u001b[1;31mValueError\u001b[0m                                Traceback (most recent call last)",
      "Cell \u001b[1;32mIn[277], line 3\u001b[0m\n\u001b[0;32m      1\u001b[0m \u001b[38;5;66;03m# Tokenization and TF-IDF Vectorization\u001b[39;00m\n\u001b[0;32m      2\u001b[0m vectorizer \u001b[38;5;241m=\u001b[39m TfidfVectorizer()\n\u001b[1;32m----> 3\u001b[0m tfidf_matrix \u001b[38;5;241m=\u001b[39m vectorizer\u001b[38;5;241m.\u001b[39mfit_transform(merged_cash_book[\u001b[38;5;124m'\u001b[39m\u001b[38;5;124mDESCRIPTION\u001b[39m\u001b[38;5;124m'\u001b[39m])\n\u001b[0;32m      5\u001b[0m \u001b[38;5;66;03m# Incorporate the TF-IDF features into your dataset\u001b[39;00m\n\u001b[0;32m      6\u001b[0m df_tfidf \u001b[38;5;241m=\u001b[39m pd\u001b[38;5;241m.\u001b[39mDataFrame(tfidf_matrix\u001b[38;5;241m.\u001b[39mtoarray(), columns\u001b[38;5;241m=\u001b[39mvectorizer\u001b[38;5;241m.\u001b[39mget_feature_names_out())\n",
      "File \u001b[1;32m~\\anaconda3\\Lib\\site-packages\\sklearn\\feature_extraction\\text.py:2126\u001b[0m, in \u001b[0;36mTfidfVectorizer.fit_transform\u001b[1;34m(self, raw_documents, y)\u001b[0m\n\u001b[0;32m   2119\u001b[0m \u001b[38;5;28mself\u001b[39m\u001b[38;5;241m.\u001b[39m_check_params()\n\u001b[0;32m   2120\u001b[0m \u001b[38;5;28mself\u001b[39m\u001b[38;5;241m.\u001b[39m_tfidf \u001b[38;5;241m=\u001b[39m TfidfTransformer(\n\u001b[0;32m   2121\u001b[0m     norm\u001b[38;5;241m=\u001b[39m\u001b[38;5;28mself\u001b[39m\u001b[38;5;241m.\u001b[39mnorm,\n\u001b[0;32m   2122\u001b[0m     use_idf\u001b[38;5;241m=\u001b[39m\u001b[38;5;28mself\u001b[39m\u001b[38;5;241m.\u001b[39muse_idf,\n\u001b[0;32m   2123\u001b[0m     smooth_idf\u001b[38;5;241m=\u001b[39m\u001b[38;5;28mself\u001b[39m\u001b[38;5;241m.\u001b[39msmooth_idf,\n\u001b[0;32m   2124\u001b[0m     sublinear_tf\u001b[38;5;241m=\u001b[39m\u001b[38;5;28mself\u001b[39m\u001b[38;5;241m.\u001b[39msublinear_tf,\n\u001b[0;32m   2125\u001b[0m )\n\u001b[1;32m-> 2126\u001b[0m X \u001b[38;5;241m=\u001b[39m \u001b[38;5;28msuper\u001b[39m()\u001b[38;5;241m.\u001b[39mfit_transform(raw_documents)\n\u001b[0;32m   2127\u001b[0m \u001b[38;5;28mself\u001b[39m\u001b[38;5;241m.\u001b[39m_tfidf\u001b[38;5;241m.\u001b[39mfit(X)\n\u001b[0;32m   2128\u001b[0m \u001b[38;5;66;03m# X is already a transformed view of raw_documents so\u001b[39;00m\n\u001b[0;32m   2129\u001b[0m \u001b[38;5;66;03m# we set copy to False\u001b[39;00m\n",
      "File \u001b[1;32m~\\anaconda3\\Lib\\site-packages\\sklearn\\base.py:1151\u001b[0m, in \u001b[0;36m_fit_context.<locals>.decorator.<locals>.wrapper\u001b[1;34m(estimator, *args, **kwargs)\u001b[0m\n\u001b[0;32m   1144\u001b[0m     estimator\u001b[38;5;241m.\u001b[39m_validate_params()\n\u001b[0;32m   1146\u001b[0m \u001b[38;5;28;01mwith\u001b[39;00m config_context(\n\u001b[0;32m   1147\u001b[0m     skip_parameter_validation\u001b[38;5;241m=\u001b[39m(\n\u001b[0;32m   1148\u001b[0m         prefer_skip_nested_validation \u001b[38;5;129;01mor\u001b[39;00m global_skip_validation\n\u001b[0;32m   1149\u001b[0m     )\n\u001b[0;32m   1150\u001b[0m ):\n\u001b[1;32m-> 1151\u001b[0m     \u001b[38;5;28;01mreturn\u001b[39;00m fit_method(estimator, \u001b[38;5;241m*\u001b[39margs, \u001b[38;5;241m*\u001b[39m\u001b[38;5;241m*\u001b[39mkwargs)\n",
      "File \u001b[1;32m~\\anaconda3\\Lib\\site-packages\\sklearn\\feature_extraction\\text.py:1383\u001b[0m, in \u001b[0;36mCountVectorizer.fit_transform\u001b[1;34m(self, raw_documents, y)\u001b[0m\n\u001b[0;32m   1375\u001b[0m             warnings\u001b[38;5;241m.\u001b[39mwarn(\n\u001b[0;32m   1376\u001b[0m                 \u001b[38;5;124m\"\u001b[39m\u001b[38;5;124mUpper case characters found in\u001b[39m\u001b[38;5;124m\"\u001b[39m\n\u001b[0;32m   1377\u001b[0m                 \u001b[38;5;124m\"\u001b[39m\u001b[38;5;124m vocabulary while \u001b[39m\u001b[38;5;124m'\u001b[39m\u001b[38;5;124mlowercase\u001b[39m\u001b[38;5;124m'\u001b[39m\u001b[38;5;124m\"\u001b[39m\n\u001b[0;32m   1378\u001b[0m                 \u001b[38;5;124m\"\u001b[39m\u001b[38;5;124m is True. These entries will not\u001b[39m\u001b[38;5;124m\"\u001b[39m\n\u001b[0;32m   1379\u001b[0m                 \u001b[38;5;124m\"\u001b[39m\u001b[38;5;124m be matched with any documents\u001b[39m\u001b[38;5;124m\"\u001b[39m\n\u001b[0;32m   1380\u001b[0m             )\n\u001b[0;32m   1381\u001b[0m             \u001b[38;5;28;01mbreak\u001b[39;00m\n\u001b[1;32m-> 1383\u001b[0m vocabulary, X \u001b[38;5;241m=\u001b[39m \u001b[38;5;28mself\u001b[39m\u001b[38;5;241m.\u001b[39m_count_vocab(raw_documents, \u001b[38;5;28mself\u001b[39m\u001b[38;5;241m.\u001b[39mfixed_vocabulary_)\n\u001b[0;32m   1385\u001b[0m \u001b[38;5;28;01mif\u001b[39;00m \u001b[38;5;28mself\u001b[39m\u001b[38;5;241m.\u001b[39mbinary:\n\u001b[0;32m   1386\u001b[0m     X\u001b[38;5;241m.\u001b[39mdata\u001b[38;5;241m.\u001b[39mfill(\u001b[38;5;241m1\u001b[39m)\n",
      "File \u001b[1;32m~\\anaconda3\\Lib\\site-packages\\sklearn\\feature_extraction\\text.py:1270\u001b[0m, in \u001b[0;36mCountVectorizer._count_vocab\u001b[1;34m(self, raw_documents, fixed_vocab)\u001b[0m\n\u001b[0;32m   1268\u001b[0m \u001b[38;5;28;01mfor\u001b[39;00m doc \u001b[38;5;129;01min\u001b[39;00m raw_documents:\n\u001b[0;32m   1269\u001b[0m     feature_counter \u001b[38;5;241m=\u001b[39m {}\n\u001b[1;32m-> 1270\u001b[0m     \u001b[38;5;28;01mfor\u001b[39;00m feature \u001b[38;5;129;01min\u001b[39;00m analyze(doc):\n\u001b[0;32m   1271\u001b[0m         \u001b[38;5;28;01mtry\u001b[39;00m:\n\u001b[0;32m   1272\u001b[0m             feature_idx \u001b[38;5;241m=\u001b[39m vocabulary[feature]\n",
      "File \u001b[1;32m~\\anaconda3\\Lib\\site-packages\\sklearn\\feature_extraction\\text.py:105\u001b[0m, in \u001b[0;36m_analyze\u001b[1;34m(doc, analyzer, tokenizer, ngrams, preprocessor, decoder, stop_words)\u001b[0m\n\u001b[0;32m     83\u001b[0m \u001b[38;5;250m\u001b[39m\u001b[38;5;124;03m\"\"\"Chain together an optional series of text processing steps to go from\u001b[39;00m\n\u001b[0;32m     84\u001b[0m \u001b[38;5;124;03ma single document to ngrams, with or without tokenizing or preprocessing.\u001b[39;00m\n\u001b[0;32m     85\u001b[0m \n\u001b[1;32m   (...)\u001b[0m\n\u001b[0;32m    101\u001b[0m \u001b[38;5;124;03m    A sequence of tokens, possibly with pairs, triples, etc.\u001b[39;00m\n\u001b[0;32m    102\u001b[0m \u001b[38;5;124;03m\"\"\"\u001b[39;00m\n\u001b[0;32m    104\u001b[0m \u001b[38;5;28;01mif\u001b[39;00m decoder \u001b[38;5;129;01mis\u001b[39;00m \u001b[38;5;129;01mnot\u001b[39;00m \u001b[38;5;28;01mNone\u001b[39;00m:\n\u001b[1;32m--> 105\u001b[0m     doc \u001b[38;5;241m=\u001b[39m decoder(doc)\n\u001b[0;32m    106\u001b[0m \u001b[38;5;28;01mif\u001b[39;00m analyzer \u001b[38;5;129;01mis\u001b[39;00m \u001b[38;5;129;01mnot\u001b[39;00m \u001b[38;5;28;01mNone\u001b[39;00m:\n\u001b[0;32m    107\u001b[0m     doc \u001b[38;5;241m=\u001b[39m analyzer(doc)\n",
      "File \u001b[1;32m~\\anaconda3\\Lib\\site-packages\\sklearn\\feature_extraction\\text.py:238\u001b[0m, in \u001b[0;36m_VectorizerMixin.decode\u001b[1;34m(self, doc)\u001b[0m\n\u001b[0;32m    235\u001b[0m     doc \u001b[38;5;241m=\u001b[39m doc\u001b[38;5;241m.\u001b[39mdecode(\u001b[38;5;28mself\u001b[39m\u001b[38;5;241m.\u001b[39mencoding, \u001b[38;5;28mself\u001b[39m\u001b[38;5;241m.\u001b[39mdecode_error)\n\u001b[0;32m    237\u001b[0m \u001b[38;5;28;01mif\u001b[39;00m doc \u001b[38;5;129;01mis\u001b[39;00m np\u001b[38;5;241m.\u001b[39mnan:\n\u001b[1;32m--> 238\u001b[0m     \u001b[38;5;28;01mraise\u001b[39;00m \u001b[38;5;167;01mValueError\u001b[39;00m(\n\u001b[0;32m    239\u001b[0m         \u001b[38;5;124m\"\u001b[39m\u001b[38;5;124mnp.nan is an invalid document, expected byte or unicode string.\u001b[39m\u001b[38;5;124m\"\u001b[39m\n\u001b[0;32m    240\u001b[0m     )\n\u001b[0;32m    242\u001b[0m \u001b[38;5;28;01mreturn\u001b[39;00m doc\n",
      "\u001b[1;31mValueError\u001b[0m: np.nan is an invalid document, expected byte or unicode string."
     ]
    }
   ],
   "source": [
    "# Tokenization and TF-IDF Vectorization\n",
    "vectorizer = TfidfVectorizer()\n",
    "tfidf_matrix = vectorizer.fit_transform(merged_cash_book['DESCRIPTION'])\n",
    "\n",
    "# Incorporate the TF-IDF features into your dataset\n",
    "df_tfidf = pd.DataFrame(tfidf_matrix.toarray(), columns=vectorizer.get_feature_names_out())\n",
    "merged_cash_book = pd.concat([merged_cash_book, df_tfidf], axis=1)"
   ]
  },
  {
   "cell_type": "code",
   "execution_count": 280,
   "id": "a57444b8",
   "metadata": {},
   "outputs": [
    {
     "name": "stdout",
     "output_type": "stream",
     "text": [
      "      DOCTYPE     DOCDATE PAYMENTMETHOD JOURNAL CANCELLED     CODE  \\\n",
      "32384      PV  2020-05-31       303-180    CASH         F  766-000   \n",
      "48520      PV  2021-08-31       303-010    CASH         F  731-000   \n",
      "\n",
      "      DESCRIPTION  CURRENCYAMOUNT  \n",
      "32384         NaN           78.15  \n",
      "48520         NaN            7.00  \n"
     ]
    }
   ],
   "source": [
    "rows_with_null = merged_cash_book[merged_cash_book.isnull().any(axis=1)]\n",
    "print(rows_with_null)\n"
   ]
  },
  {
   "cell_type": "code",
   "execution_count": 183,
   "id": "15453e2c",
   "metadata": {},
   "outputs": [
    {
     "name": "stdout",
     "output_type": "stream",
     "text": [
      "['F' 'T']\n"
     ]
    }
   ],
   "source": [
    "print(merged_cash_book['CANCELLED'].unique())"
   ]
  },
  {
   "cell_type": "code",
   "execution_count": 184,
   "id": "c7b7b0b7",
   "metadata": {},
   "outputs": [],
   "source": [
    "# Drop rows where the entry is being cancelled\n",
    "merged_cash_book = merged_cash_book[merged_cash_book['CANCELLED'] != 'T']"
   ]
  },
  {
   "cell_type": "code",
   "execution_count": 185,
   "id": "9ee104ec",
   "metadata": {},
   "outputs": [],
   "source": [
    "merged_cash_book = merged_cash_book.drop('CANCELLED', axis=1)"
   ]
  },
  {
   "cell_type": "code",
   "execution_count": 186,
   "id": "198bf5c3",
   "metadata": {},
   "outputs": [],
   "source": [
    "merged_cash_book['DOCDATE'] = pd.to_datetime(merged_cash_book['DOCDATE']).astype('int64') // 10**9"
   ]
  },
  {
   "cell_type": "code",
   "execution_count": 187,
   "id": "18a2a125",
   "metadata": {},
   "outputs": [
    {
     "name": "stdout",
     "output_type": "stream",
     "text": [
      "<class 'pandas.core.frame.DataFrame'>\n",
      "Index: 56529 entries, 0 to 56565\n",
      "Data columns (total 6 columns):\n",
      " #   Column          Non-Null Count  Dtype  \n",
      "---  ------          --------------  -----  \n",
      " 0   DOCTYPE         56529 non-null  object \n",
      " 1   DOCDATE         56529 non-null  int64  \n",
      " 2   PAYMENTMETHOD   56529 non-null  object \n",
      " 3   JOURNAL         56529 non-null  object \n",
      " 4   CODE            56529 non-null  object \n",
      " 5   CURRENCYAMOUNT  56529 non-null  float64\n",
      "dtypes: float64(1), int64(1), object(4)\n",
      "memory usage: 3.0+ MB\n"
     ]
    }
   ],
   "source": [
    "merged_cash_book.info()"
   ]
  },
  {
   "cell_type": "code",
   "execution_count": 188,
   "id": "b3fb1a6e",
   "metadata": {},
   "outputs": [
    {
     "data": {
      "text/plain": [
       "DOCTYPE           0\n",
       "DOCDATE           0\n",
       "PAYMENTMETHOD     0\n",
       "JOURNAL           0\n",
       "CODE              0\n",
       "CURRENCYAMOUNT    0\n",
       "dtype: int64"
      ]
     },
     "execution_count": 188,
     "metadata": {},
     "output_type": "execute_result"
    }
   ],
   "source": [
    "merged_cash_book.isna().sum()"
   ]
  },
  {
   "cell_type": "code",
   "execution_count": 189,
   "id": "194f6585",
   "metadata": {},
   "outputs": [],
   "source": [
    "type_encoder = OneHotEncoder()\n",
    "# enc_data = pd.DataFrame(enc.fit_transform( \n",
    "#     data[['Gen_new', 'Rem_new']]).toarray()) \n",
    "encoded_DOCTYPE = type_encoder.fit_transform(merged_cash_book[['DOCTYPE']]).toarray()\n",
    "DOCTYPE_names = type_encoder.get_feature_names_out(['DOCTYPE'])\n",
    "encoded_DOCTYPE = pd.DataFrame(encoded_DOCTYPE, columns=DOCTYPE_names)\n",
    "\n",
    "pm_encoder = OneHotEncoder()\n",
    "# enc_data = pd.DataFrame(enc.fit_transform( \n",
    "#     data[['Gen_new', 'Rem_new']]).toarray())\n",
    "encoded_PM = pm_encoder.fit_transform(merged_cash_book[['PAYMENTMETHOD']]).toarray()\n",
    "PM_names = pm_encoder.get_feature_names_out(['PAYMENTMETHOD'])\n",
    "encoded_PM = pd.DataFrame(encoded_PM, columns=PM_names)\n",
    "\n",
    "journal_encoder = OneHotEncoder()\n",
    "# enc_data = pd.DataFrame(enc.fit_transform( \n",
    "#     data[['Gen_new', 'Rem_new']]).toarray()) \n",
    "encoded_journal = journal_encoder.fit_transform(merged_cash_book[['JOURNAL']]).toarray()\n",
    "journal_names = journal_encoder.get_feature_names_out(['JOURNAL'])\n",
    "encoded_journal = pd.DataFrame(encoded_journal, columns=journal_names)\n",
    "\n",
    "code_encoder = OneHotEncoder()\n",
    "# enc_data = pd.DataFrame(enc.fit_transform( \n",
    "#     data[['Gen_new', 'Rem_new']]).toarray()) \n",
    "encoded_Code = code_encoder.fit_transform(merged_cash_book[['CODE']]).toarray()\n",
    "Code_names = code_encoder.get_feature_names_out(['CODE'])\n",
    "encoded_Code = pd.DataFrame(encoded_Code, columns=Code_names)\n"
   ]
  },
  {
   "cell_type": "code",
   "execution_count": 190,
   "id": "fb9e1416",
   "metadata": {},
   "outputs": [
    {
     "name": "stdout",
     "output_type": "stream",
     "text": [
      "<class 'pandas.core.frame.DataFrame'>\n",
      "RangeIndex: 56529 entries, 0 to 56528\n",
      "Columns: 1158 entries, CODE_100-000 to CODE_GST-KASTAM\n",
      "dtypes: float64(1158)\n",
      "memory usage: 499.4 MB\n"
     ]
    }
   ],
   "source": [
    "encoded_Code.info()"
   ]
  },
  {
   "cell_type": "code",
   "execution_count": 191,
   "id": "08d454e3",
   "metadata": {},
   "outputs": [
    {
     "name": "stdout",
     "output_type": "stream",
     "text": [
      "<class 'pandas.core.frame.DataFrame'>\n",
      "Index: 56529 entries, 0 to 56565\n",
      "Data columns (total 6 columns):\n",
      " #   Column          Non-Null Count  Dtype  \n",
      "---  ------          --------------  -----  \n",
      " 0   DOCTYPE         56529 non-null  object \n",
      " 1   DOCDATE         56529 non-null  int64  \n",
      " 2   PAYMENTMETHOD   56529 non-null  object \n",
      " 3   JOURNAL         56529 non-null  object \n",
      " 4   CODE            56529 non-null  object \n",
      " 5   CURRENCYAMOUNT  56529 non-null  float64\n",
      "dtypes: float64(1), int64(1), object(4)\n",
      "memory usage: 3.0+ MB\n"
     ]
    }
   ],
   "source": [
    "merged_cash_book.info()"
   ]
  },
  {
   "cell_type": "code",
   "execution_count": 192,
   "id": "18117411",
   "metadata": {},
   "outputs": [
    {
     "data": {
      "text/html": [
       "<div>\n",
       "<style scoped>\n",
       "    .dataframe tbody tr th:only-of-type {\n",
       "        vertical-align: middle;\n",
       "    }\n",
       "\n",
       "    .dataframe tbody tr th {\n",
       "        vertical-align: top;\n",
       "    }\n",
       "\n",
       "    .dataframe thead th {\n",
       "        text-align: right;\n",
       "    }\n",
       "</style>\n",
       "<table border=\"1\" class=\"dataframe\">\n",
       "  <thead>\n",
       "    <tr style=\"text-align: right;\">\n",
       "      <th></th>\n",
       "      <th>DOCTYPE</th>\n",
       "      <th>DOCDATE</th>\n",
       "      <th>PAYMENTMETHOD</th>\n",
       "      <th>JOURNAL</th>\n",
       "      <th>CODE</th>\n",
       "      <th>CURRENCYAMOUNT</th>\n",
       "    </tr>\n",
       "  </thead>\n",
       "  <tbody>\n",
       "    <tr>\n",
       "      <th>0</th>\n",
       "      <td>PV</td>\n",
       "      <td>1385769600</td>\n",
       "      <td>301-001</td>\n",
       "      <td>BANK</td>\n",
       "      <td>711-000</td>\n",
       "      <td>3209.00</td>\n",
       "    </tr>\n",
       "    <tr>\n",
       "      <th>1</th>\n",
       "      <td>PV</td>\n",
       "      <td>1384905600</td>\n",
       "      <td>301-001</td>\n",
       "      <td>BANK</td>\n",
       "      <td>719-000</td>\n",
       "      <td>2000.00</td>\n",
       "    </tr>\n",
       "    <tr>\n",
       "      <th>2</th>\n",
       "      <td>PV</td>\n",
       "      <td>1384905600</td>\n",
       "      <td>301-001</td>\n",
       "      <td>BANK</td>\n",
       "      <td>720-000</td>\n",
       "      <td>1500.00</td>\n",
       "    </tr>\n",
       "    <tr>\n",
       "      <th>3</th>\n",
       "      <td>PV</td>\n",
       "      <td>1384905600</td>\n",
       "      <td>301-001</td>\n",
       "      <td>BANK</td>\n",
       "      <td>708-000</td>\n",
       "      <td>-220.00</td>\n",
       "    </tr>\n",
       "    <tr>\n",
       "      <th>4</th>\n",
       "      <td>PV</td>\n",
       "      <td>1384905600</td>\n",
       "      <td>301-001</td>\n",
       "      <td>BANK</td>\n",
       "      <td>721-000</td>\n",
       "      <td>-9.75</td>\n",
       "    </tr>\n",
       "    <tr>\n",
       "      <th>...</th>\n",
       "      <td>...</td>\n",
       "      <td>...</td>\n",
       "      <td>...</td>\n",
       "      <td>...</td>\n",
       "      <td>...</td>\n",
       "      <td>...</td>\n",
       "    </tr>\n",
       "    <tr>\n",
       "      <th>56561</th>\n",
       "      <td>OR</td>\n",
       "      <td>1653350400</td>\n",
       "      <td>301-003</td>\n",
       "      <td>BANK</td>\n",
       "      <td>300-S0029</td>\n",
       "      <td>6597.50</td>\n",
       "    </tr>\n",
       "    <tr>\n",
       "      <th>56562</th>\n",
       "      <td>OR</td>\n",
       "      <td>1653523200</td>\n",
       "      <td>301-003</td>\n",
       "      <td>BANK</td>\n",
       "      <td>300-P0022</td>\n",
       "      <td>295.00</td>\n",
       "    </tr>\n",
       "    <tr>\n",
       "      <th>56563</th>\n",
       "      <td>OR</td>\n",
       "      <td>1653609600</td>\n",
       "      <td>301-003</td>\n",
       "      <td>BANK</td>\n",
       "      <td>300-F0005</td>\n",
       "      <td>1060.00</td>\n",
       "    </tr>\n",
       "    <tr>\n",
       "      <th>56564</th>\n",
       "      <td>OR</td>\n",
       "      <td>1653609600</td>\n",
       "      <td>301-003</td>\n",
       "      <td>BANK</td>\n",
       "      <td>300-A0010</td>\n",
       "      <td>2250.00</td>\n",
       "    </tr>\n",
       "    <tr>\n",
       "      <th>56565</th>\n",
       "      <td>OR</td>\n",
       "      <td>1653609600</td>\n",
       "      <td>301-003</td>\n",
       "      <td>BANK</td>\n",
       "      <td>300-O0005</td>\n",
       "      <td>14550.72</td>\n",
       "    </tr>\n",
       "  </tbody>\n",
       "</table>\n",
       "<p>56529 rows × 6 columns</p>\n",
       "</div>"
      ],
      "text/plain": [
       "      DOCTYPE     DOCDATE PAYMENTMETHOD JOURNAL       CODE  CURRENCYAMOUNT\n",
       "0          PV  1385769600       301-001    BANK    711-000         3209.00\n",
       "1          PV  1384905600       301-001    BANK    719-000         2000.00\n",
       "2          PV  1384905600       301-001    BANK    720-000         1500.00\n",
       "3          PV  1384905600       301-001    BANK    708-000         -220.00\n",
       "4          PV  1384905600       301-001    BANK    721-000           -9.75\n",
       "...       ...         ...           ...     ...        ...             ...\n",
       "56561      OR  1653350400       301-003    BANK  300-S0029         6597.50\n",
       "56562      OR  1653523200       301-003    BANK  300-P0022          295.00\n",
       "56563      OR  1653609600       301-003    BANK  300-F0005         1060.00\n",
       "56564      OR  1653609600       301-003    BANK  300-A0010         2250.00\n",
       "56565      OR  1653609600       301-003    BANK  300-O0005        14550.72\n",
       "\n",
       "[56529 rows x 6 columns]"
      ]
     },
     "execution_count": 192,
     "metadata": {},
     "output_type": "execute_result"
    }
   ],
   "source": [
    "merged_cash_book"
   ]
  },
  {
   "cell_type": "code",
   "execution_count": 193,
   "id": "7fa80de9",
   "metadata": {},
   "outputs": [],
   "source": [
    "merged_cash_book['DOCDATE'] = pd.to_datetime(merged_cash_book['DOCDATE'], unit='ms')\n",
    "\n",
    "# Extract year, month, day, and hour\n",
    "merged_cash_book['year'] = merged_cash_book['DOCDATE'].dt.year.astype(int)\n",
    "merged_cash_book['month'] = merged_cash_book['DOCDATE'].dt.month.astype(int)\n",
    "merged_cash_book['day'] = merged_cash_book['DOCDATE'].dt.day.astype(int)\n",
    "\n",
    "merged_cash_book = merged_cash_book.drop('DOCDATE', axis=1)"
   ]
  },
  {
   "cell_type": "code",
   "execution_count": 194,
   "id": "c4abb4c3",
   "metadata": {},
   "outputs": [],
   "source": [
    "from sklearn.preprocessing import MinMaxScaler\n",
    "\n",
    "currency_scaler = MinMaxScaler()\n",
    "merged_cash_book['CURRENCYAMOUNT'] = currency_scaler.fit_transform(merged_cash_book['CURRENCYAMOUNT'].values.reshape(-1, 1))\n"
   ]
  },
  {
   "cell_type": "code",
   "execution_count": 195,
   "id": "410c1fdb",
   "metadata": {},
   "outputs": [
    {
     "data": {
      "text/plain": [
       "DOCTYPE           0\n",
       "PAYMENTMETHOD     0\n",
       "JOURNAL           0\n",
       "CODE              0\n",
       "CURRENCYAMOUNT    0\n",
       "year              0\n",
       "month             0\n",
       "day               0\n",
       "dtype: int64"
      ]
     },
     "execution_count": 195,
     "metadata": {},
     "output_type": "execute_result"
    }
   ],
   "source": [
    "merged_cash_book.isna().sum()"
   ]
  },
  {
   "cell_type": "code",
   "execution_count": 196,
   "id": "88b33fc7",
   "metadata": {},
   "outputs": [],
   "source": [
    "merged_cash_book = merged_cash_book.drop(['DOCTYPE', 'PAYMENTMETHOD','JOURNAL','CODE'], axis = 1)\n",
    "merged_cash_book.reset_index(drop=True, inplace=True)\n",
    "encoded_DOCTYPE.reset_index(drop=True, inplace=True)\n",
    "encoded_PM.reset_index(drop=True, inplace=True)\n",
    "encoded_journal.reset_index(drop=True, inplace=True)\n",
    "encoded_Code.reset_index(drop=True, inplace=True)\n",
    "merged_cash_book_encoded = pd.concat([merged_cash_book, encoded_DOCTYPE, encoded_PM, encoded_journal, encoded_Code], axis=1)"
   ]
  },
  {
   "cell_type": "code",
   "execution_count": 197,
   "id": "79108088",
   "metadata": {},
   "outputs": [
    {
     "name": "stdout",
     "output_type": "stream",
     "text": [
      "<class 'pandas.core.frame.DataFrame'>\n",
      "RangeIndex: 56529 entries, 0 to 56528\n",
      "Data columns (total 4 columns):\n",
      " #   Column          Non-Null Count  Dtype  \n",
      "---  ------          --------------  -----  \n",
      " 0   CURRENCYAMOUNT  56529 non-null  float64\n",
      " 1   year            56529 non-null  int32  \n",
      " 2   month           56529 non-null  int32  \n",
      " 3   day             56529 non-null  int32  \n",
      "dtypes: float64(1), int32(3)\n",
      "memory usage: 1.1 MB\n"
     ]
    }
   ],
   "source": [
    "merged_cash_book.info()"
   ]
  },
  {
   "cell_type": "code",
   "execution_count": 198,
   "id": "a54bad01",
   "metadata": {},
   "outputs": [
    {
     "data": {
      "text/plain": [
       "CURRENCYAMOUNT     0\n",
       "year               0\n",
       "month              0\n",
       "day                0\n",
       "DOCTYPE_OR         0\n",
       "                  ..\n",
       "CODE_804-000       0\n",
       "CODE_950-000       0\n",
       "CODE_960-000       0\n",
       "CODE_GST-101       0\n",
       "CODE_GST-KASTAM    0\n",
       "Length: 1194, dtype: int64"
      ]
     },
     "execution_count": 198,
     "metadata": {},
     "output_type": "execute_result"
    }
   ],
   "source": [
    "merged_cash_book_encoded.isna().sum()"
   ]
  },
  {
   "cell_type": "code",
   "execution_count": 199,
   "id": "38913f52",
   "metadata": {},
   "outputs": [
    {
     "data": {
      "text/plain": [
       "Index(['CURRENCYAMOUNT', 'year', 'month', 'day', 'DOCTYPE_OR', 'DOCTYPE_PV',\n",
       "       'PAYMENTMETHOD_301-001', 'PAYMENTMETHOD_301-002',\n",
       "       'PAYMENTMETHOD_301-003', 'PAYMENTMETHOD_301-004',\n",
       "       ...\n",
       "       'CODE_795-000', 'CODE_796-000', 'CODE_799-000', 'CODE_801-000',\n",
       "       'CODE_802-000', 'CODE_804-000', 'CODE_950-000', 'CODE_960-000',\n",
       "       'CODE_GST-101', 'CODE_GST-KASTAM'],\n",
       "      dtype='object', length=1194)"
      ]
     },
     "execution_count": 199,
     "metadata": {},
     "output_type": "execute_result"
    }
   ],
   "source": [
    "merged_cash_book_encoded.columns"
   ]
  },
  {
   "cell_type": "code",
   "execution_count": 200,
   "id": "aa01cc5a",
   "metadata": {},
   "outputs": [
    {
     "name": "stdout",
     "output_type": "stream",
     "text": [
      "<class 'pandas.core.frame.DataFrame'>\n",
      "RangeIndex: 56529 entries, 0 to 56528\n",
      "Columns: 1194 entries, CURRENCYAMOUNT to CODE_GST-KASTAM\n",
      "dtypes: float64(1191), int32(3)\n",
      "memory usage: 514.3 MB\n"
     ]
    }
   ],
   "source": [
    "merged_cash_book_encoded.info()"
   ]
  },
  {
   "cell_type": "code",
   "execution_count": 201,
   "id": "148b1d53",
   "metadata": {},
   "outputs": [],
   "source": [
    "from sklearn.model_selection import train_test_split\n",
    "X_train, X_test = train_test_split(merged_cash_book_encoded, test_size=0.2, random_state=42)"
   ]
  },
  {
   "cell_type": "code",
   "execution_count": 202,
   "id": "8d84eca6",
   "metadata": {},
   "outputs": [],
   "source": [
    "# Specify the path where you want to save the CSV file\n",
    "csv_file_path = 'data.csv'\n",
    "\n",
    "# Export the DataFrame to a CSV file\n",
    "merged_cash_book_encoded.to_csv(csv_file_path, index=False)"
   ]
  },
  {
   "cell_type": "code",
   "execution_count": 203,
   "id": "d17fac55",
   "metadata": {},
   "outputs": [],
   "source": [
    "X_train.to_csv(csv_file_path, index=False)"
   ]
  },
  {
   "cell_type": "code",
   "execution_count": 204,
   "id": "652569c0",
   "metadata": {},
   "outputs": [
    {
     "data": {
      "text/html": [
       "<style>#sk-container-id-2 {color: black;}#sk-container-id-2 pre{padding: 0;}#sk-container-id-2 div.sk-toggleable {background-color: white;}#sk-container-id-2 label.sk-toggleable__label {cursor: pointer;display: block;width: 100%;margin-bottom: 0;padding: 0.3em;box-sizing: border-box;text-align: center;}#sk-container-id-2 label.sk-toggleable__label-arrow:before {content: \"▸\";float: left;margin-right: 0.25em;color: #696969;}#sk-container-id-2 label.sk-toggleable__label-arrow:hover:before {color: black;}#sk-container-id-2 div.sk-estimator:hover label.sk-toggleable__label-arrow:before {color: black;}#sk-container-id-2 div.sk-toggleable__content {max-height: 0;max-width: 0;overflow: hidden;text-align: left;background-color: #f0f8ff;}#sk-container-id-2 div.sk-toggleable__content pre {margin: 0.2em;color: black;border-radius: 0.25em;background-color: #f0f8ff;}#sk-container-id-2 input.sk-toggleable__control:checked~div.sk-toggleable__content {max-height: 200px;max-width: 100%;overflow: auto;}#sk-container-id-2 input.sk-toggleable__control:checked~label.sk-toggleable__label-arrow:before {content: \"▾\";}#sk-container-id-2 div.sk-estimator input.sk-toggleable__control:checked~label.sk-toggleable__label {background-color: #d4ebff;}#sk-container-id-2 div.sk-label input.sk-toggleable__control:checked~label.sk-toggleable__label {background-color: #d4ebff;}#sk-container-id-2 input.sk-hidden--visually {border: 0;clip: rect(1px 1px 1px 1px);clip: rect(1px, 1px, 1px, 1px);height: 1px;margin: -1px;overflow: hidden;padding: 0;position: absolute;width: 1px;}#sk-container-id-2 div.sk-estimator {font-family: monospace;background-color: #f0f8ff;border: 1px dotted black;border-radius: 0.25em;box-sizing: border-box;margin-bottom: 0.5em;}#sk-container-id-2 div.sk-estimator:hover {background-color: #d4ebff;}#sk-container-id-2 div.sk-parallel-item::after {content: \"\";width: 100%;border-bottom: 1px solid gray;flex-grow: 1;}#sk-container-id-2 div.sk-label:hover label.sk-toggleable__label {background-color: #d4ebff;}#sk-container-id-2 div.sk-serial::before {content: \"\";position: absolute;border-left: 1px solid gray;box-sizing: border-box;top: 0;bottom: 0;left: 50%;z-index: 0;}#sk-container-id-2 div.sk-serial {display: flex;flex-direction: column;align-items: center;background-color: white;padding-right: 0.2em;padding-left: 0.2em;position: relative;}#sk-container-id-2 div.sk-item {position: relative;z-index: 1;}#sk-container-id-2 div.sk-parallel {display: flex;align-items: stretch;justify-content: center;background-color: white;position: relative;}#sk-container-id-2 div.sk-item::before, #sk-container-id-2 div.sk-parallel-item::before {content: \"\";position: absolute;border-left: 1px solid gray;box-sizing: border-box;top: 0;bottom: 0;left: 50%;z-index: -1;}#sk-container-id-2 div.sk-parallel-item {display: flex;flex-direction: column;z-index: 1;position: relative;background-color: white;}#sk-container-id-2 div.sk-parallel-item:first-child::after {align-self: flex-end;width: 50%;}#sk-container-id-2 div.sk-parallel-item:last-child::after {align-self: flex-start;width: 50%;}#sk-container-id-2 div.sk-parallel-item:only-child::after {width: 0;}#sk-container-id-2 div.sk-dashed-wrapped {border: 1px dashed gray;margin: 0 0.4em 0.5em 0.4em;box-sizing: border-box;padding-bottom: 0.4em;background-color: white;}#sk-container-id-2 div.sk-label label {font-family: monospace;font-weight: bold;display: inline-block;line-height: 1.2em;}#sk-container-id-2 div.sk-label-container {text-align: center;}#sk-container-id-2 div.sk-container {/* jupyter's `normalize.less` sets `[hidden] { display: none; }` but bootstrap.min.css set `[hidden] { display: none !important; }` so we also need the `!important` here to be able to override the default hidden behavior on the sphinx rendered scikit-learn.org. See: https://github.com/scikit-learn/scikit-learn/issues/21755 */display: inline-block !important;position: relative;}#sk-container-id-2 div.sk-text-repr-fallback {display: none;}</style><div id=\"sk-container-id-2\" class=\"sk-top-container\"><div class=\"sk-text-repr-fallback\"><pre>LocalOutlierFactor(novelty=True)</pre><b>In a Jupyter environment, please rerun this cell to show the HTML representation or trust the notebook. <br />On GitHub, the HTML representation is unable to render, please try loading this page with nbviewer.org.</b></div><div class=\"sk-container\" hidden><div class=\"sk-item\"><div class=\"sk-estimator sk-toggleable\"><input class=\"sk-toggleable__control sk-hidden--visually\" id=\"sk-estimator-id-2\" type=\"checkbox\" checked><label for=\"sk-estimator-id-2\" class=\"sk-toggleable__label sk-toggleable__label-arrow\">LocalOutlierFactor</label><div class=\"sk-toggleable__content\"><pre>LocalOutlierFactor(novelty=True)</pre></div></div></div></div></div>"
      ],
      "text/plain": [
       "LocalOutlierFactor(novelty=True)"
      ]
     },
     "execution_count": 204,
     "metadata": {},
     "output_type": "execute_result"
    }
   ],
   "source": [
    "from sklearn.neighbors import LocalOutlierFactor\n",
    "lof = LocalOutlierFactor(novelty=True)\n",
    "lof.fit(X_train)"
   ]
  },
  {
   "cell_type": "code",
   "execution_count": 205,
   "id": "12396265",
   "metadata": {},
   "outputs": [
    {
     "name": "stderr",
     "output_type": "stream",
     "text": [
      "C:\\Users\\Dan\\anaconda3\\Lib\\site-packages\\sklearn\\base.py:464: UserWarning: X does not have valid feature names, but LocalOutlierFactor was fitted with feature names\n",
      "  warnings.warn(\n"
     ]
    }
   ],
   "source": [
    "y_pred_test = lof.predict(X_test)"
   ]
  },
  {
   "cell_type": "code",
   "execution_count": 206,
   "id": "874aeeeb",
   "metadata": {},
   "outputs": [
    {
     "name": "stderr",
     "output_type": "stream",
     "text": [
      "C:\\Users\\Dan\\anaconda3\\Lib\\site-packages\\sklearn\\base.py:464: UserWarning: X does not have valid feature names, but LocalOutlierFactor was fitted with feature names\n",
      "  warnings.warn(\n"
     ]
    }
   ],
   "source": [
    "anomaly_scores_test = lof.decision_function(X_test)\n"
   ]
  },
  {
   "cell_type": "code",
   "execution_count": 207,
   "id": "0d407126",
   "metadata": {},
   "outputs": [
    {
     "name": "stdout",
     "output_type": "stream",
     "text": [
      "[-5.35308902e+03  5.12539178e-01  5.00921498e-01 ... -3.65066918e+03\n",
      "  5.00000000e-01  3.15012303e-01]\n"
     ]
    }
   ],
   "source": [
    "print(anomaly_scores_test)"
   ]
  },
  {
   "cell_type": "code",
   "execution_count": 208,
   "id": "5a6173e7",
   "metadata": {},
   "outputs": [
    {
     "name": "stdout",
     "output_type": "stream",
     "text": [
      "       CURRENCYAMOUNT  year  month  day  DOCTYPE_OR  DOCTYPE_PV  \\\n",
      "53937        0.008531  1970      1   20         0.0         1.0   \n",
      "32008        0.012259  1970      1   19         0.0         1.0   \n",
      "26136        0.006283  1970      1   19         0.0         1.0   \n",
      "16404        0.006273  1970      1   18         0.0         1.0   \n",
      "26703        0.006405  1970      1   19         0.0         1.0   \n",
      "...               ...   ...    ...  ...         ...         ...   \n",
      "55628        0.006279  1970      1   20         0.0         1.0   \n",
      "47228        0.006279  1970      1   19         0.0         1.0   \n",
      "54931        0.006584  1970      1   20         0.0         1.0   \n",
      "40594        0.006348  1970      1   19         0.0         1.0   \n",
      "13141        0.006273  1970      1   18         0.0         1.0   \n",
      "\n",
      "       PAYMENTMETHOD_301-001  PAYMENTMETHOD_301-002  PAYMENTMETHOD_301-003  \\\n",
      "53937                    0.0                    0.0                    1.0   \n",
      "32008                    0.0                    0.0                    1.0   \n",
      "26136                    0.0                    0.0                    1.0   \n",
      "16404                    0.0                    0.0                    1.0   \n",
      "26703                    0.0                    0.0                    0.0   \n",
      "...                      ...                    ...                    ...   \n",
      "55628                    0.0                    0.0                    0.0   \n",
      "47228                    0.0                    0.0                    1.0   \n",
      "54931                    0.0                    0.0                    0.0   \n",
      "40594                    0.0                    0.0                    0.0   \n",
      "13141                    0.0                    0.0                    1.0   \n",
      "\n",
      "       PAYMENTMETHOD_301-004  ...  CODE_795-000  CODE_796-000  CODE_799-000  \\\n",
      "53937                    0.0  ...           0.0           0.0           0.0   \n",
      "32008                    0.0  ...           0.0           0.0           0.0   \n",
      "26136                    0.0  ...           0.0           0.0           0.0   \n",
      "16404                    0.0  ...           0.0           0.0           0.0   \n",
      "26703                    0.0  ...           0.0           0.0           0.0   \n",
      "...                      ...  ...           ...           ...           ...   \n",
      "55628                    0.0  ...           0.0           0.0           0.0   \n",
      "47228                    0.0  ...           0.0           0.0           0.0   \n",
      "54931                    0.0  ...           0.0           0.0           0.0   \n",
      "40594                    0.0  ...           0.0           0.0           0.0   \n",
      "13141                    0.0  ...           0.0           0.0           0.0   \n",
      "\n",
      "       CODE_801-000  CODE_802-000  CODE_804-000  CODE_950-000  CODE_960-000  \\\n",
      "53937           0.0           0.0           0.0           0.0           0.0   \n",
      "32008           0.0           0.0           0.0           0.0           0.0   \n",
      "26136           0.0           0.0           0.0           0.0           0.0   \n",
      "16404           0.0           0.0           0.0           0.0           0.0   \n",
      "26703           0.0           0.0           0.0           0.0           0.0   \n",
      "...             ...           ...           ...           ...           ...   \n",
      "55628           0.0           0.0           0.0           0.0           0.0   \n",
      "47228           0.0           0.0           0.0           0.0           0.0   \n",
      "54931           0.0           0.0           0.0           0.0           0.0   \n",
      "40594           0.0           0.0           0.0           0.0           0.0   \n",
      "13141           0.0           0.0           0.0           0.0           0.0   \n",
      "\n",
      "       CODE_GST-101  CODE_GST-KASTAM  \n",
      "53937           0.0              0.0  \n",
      "32008           0.0              0.0  \n",
      "26136           0.0              0.0  \n",
      "16404           0.0              0.0  \n",
      "26703           0.0              0.0  \n",
      "...             ...              ...  \n",
      "55628           0.0              0.0  \n",
      "47228           0.0              0.0  \n",
      "54931           0.0              0.0  \n",
      "40594           0.0              0.0  \n",
      "13141           0.0              0.0  \n",
      "\n",
      "[11306 rows x 1194 columns]\n"
     ]
    }
   ],
   "source": [
    "print(X_test)"
   ]
  },
  {
   "cell_type": "code",
   "execution_count": 752,
   "id": "f8b60230",
   "metadata": {},
   "outputs": [
    {
     "ename": "InvalidIndexError",
     "evalue": "(slice(None, None, None), 0)",
     "output_type": "error",
     "traceback": [
      "\u001b[1;31m---------------------------------------------------------------------------\u001b[0m",
      "\u001b[1;31mTypeError\u001b[0m                                 Traceback (most recent call last)",
      "File \u001b[1;32m~\\anaconda3\\Lib\\site-packages\\pandas\\core\\indexes\\base.py:3653\u001b[0m, in \u001b[0;36mIndex.get_loc\u001b[1;34m(self, key)\u001b[0m\n\u001b[0;32m   3652\u001b[0m \u001b[38;5;28;01mtry\u001b[39;00m:\n\u001b[1;32m-> 3653\u001b[0m     \u001b[38;5;28;01mreturn\u001b[39;00m \u001b[38;5;28mself\u001b[39m\u001b[38;5;241m.\u001b[39m_engine\u001b[38;5;241m.\u001b[39mget_loc(casted_key)\n\u001b[0;32m   3654\u001b[0m \u001b[38;5;28;01mexcept\u001b[39;00m \u001b[38;5;167;01mKeyError\u001b[39;00m \u001b[38;5;28;01mas\u001b[39;00m err:\n",
      "File \u001b[1;32m~\\anaconda3\\Lib\\site-packages\\pandas\\_libs\\index.pyx:147\u001b[0m, in \u001b[0;36mpandas._libs.index.IndexEngine.get_loc\u001b[1;34m()\u001b[0m\n",
      "File \u001b[1;32m~\\anaconda3\\Lib\\site-packages\\pandas\\_libs\\index.pyx:153\u001b[0m, in \u001b[0;36mpandas._libs.index.IndexEngine.get_loc\u001b[1;34m()\u001b[0m\n",
      "\u001b[1;31mTypeError\u001b[0m: '(slice(None, None, None), 0)' is an invalid key",
      "\nDuring handling of the above exception, another exception occurred:\n",
      "\u001b[1;31mInvalidIndexError\u001b[0m                         Traceback (most recent call last)",
      "Cell \u001b[1;32mIn[752], line 1\u001b[0m\n\u001b[1;32m----> 1\u001b[0m plt\u001b[38;5;241m.\u001b[39mscatter(X_test[:, \u001b[38;5;241m0\u001b[39m], X_test[:, \u001b[38;5;241m1\u001b[39m], c\u001b[38;5;241m=\u001b[39manomaly_scores_test, cmap\u001b[38;5;241m=\u001b[39m\u001b[38;5;124m'\u001b[39m\u001b[38;5;124mviridis\u001b[39m\u001b[38;5;124m'\u001b[39m, s\u001b[38;5;241m=\u001b[39m\u001b[38;5;241m50\u001b[39m, edgecolors\u001b[38;5;241m=\u001b[39m\u001b[38;5;124m'\u001b[39m\u001b[38;5;124mk\u001b[39m\u001b[38;5;124m'\u001b[39m)\n\u001b[0;32m      2\u001b[0m plt\u001b[38;5;241m.\u001b[39mcolorbar(label\u001b[38;5;241m=\u001b[39m\u001b[38;5;124m'\u001b[39m\u001b[38;5;124mAnomaly Score\u001b[39m\u001b[38;5;124m'\u001b[39m)\n\u001b[0;32m      3\u001b[0m plt\u001b[38;5;241m.\u001b[39mtitle(\u001b[38;5;124m'\u001b[39m\u001b[38;5;124mLOF Anomaly Scores - Test Data\u001b[39m\u001b[38;5;124m'\u001b[39m)\n",
      "File \u001b[1;32m~\\anaconda3\\Lib\\site-packages\\pandas\\core\\frame.py:3761\u001b[0m, in \u001b[0;36mDataFrame.__getitem__\u001b[1;34m(self, key)\u001b[0m\n\u001b[0;32m   3759\u001b[0m \u001b[38;5;28;01mif\u001b[39;00m \u001b[38;5;28mself\u001b[39m\u001b[38;5;241m.\u001b[39mcolumns\u001b[38;5;241m.\u001b[39mnlevels \u001b[38;5;241m>\u001b[39m \u001b[38;5;241m1\u001b[39m:\n\u001b[0;32m   3760\u001b[0m     \u001b[38;5;28;01mreturn\u001b[39;00m \u001b[38;5;28mself\u001b[39m\u001b[38;5;241m.\u001b[39m_getitem_multilevel(key)\n\u001b[1;32m-> 3761\u001b[0m indexer \u001b[38;5;241m=\u001b[39m \u001b[38;5;28mself\u001b[39m\u001b[38;5;241m.\u001b[39mcolumns\u001b[38;5;241m.\u001b[39mget_loc(key)\n\u001b[0;32m   3762\u001b[0m \u001b[38;5;28;01mif\u001b[39;00m is_integer(indexer):\n\u001b[0;32m   3763\u001b[0m     indexer \u001b[38;5;241m=\u001b[39m [indexer]\n",
      "File \u001b[1;32m~\\anaconda3\\Lib\\site-packages\\pandas\\core\\indexes\\base.py:3660\u001b[0m, in \u001b[0;36mIndex.get_loc\u001b[1;34m(self, key)\u001b[0m\n\u001b[0;32m   3655\u001b[0m     \u001b[38;5;28;01mraise\u001b[39;00m \u001b[38;5;167;01mKeyError\u001b[39;00m(key) \u001b[38;5;28;01mfrom\u001b[39;00m \u001b[38;5;21;01merr\u001b[39;00m\n\u001b[0;32m   3656\u001b[0m \u001b[38;5;28;01mexcept\u001b[39;00m \u001b[38;5;167;01mTypeError\u001b[39;00m:\n\u001b[0;32m   3657\u001b[0m     \u001b[38;5;66;03m# If we have a listlike key, _check_indexing_error will raise\u001b[39;00m\n\u001b[0;32m   3658\u001b[0m     \u001b[38;5;66;03m#  InvalidIndexError. Otherwise we fall through and re-raise\u001b[39;00m\n\u001b[0;32m   3659\u001b[0m     \u001b[38;5;66;03m#  the TypeError.\u001b[39;00m\n\u001b[1;32m-> 3660\u001b[0m     \u001b[38;5;28mself\u001b[39m\u001b[38;5;241m.\u001b[39m_check_indexing_error(key)\n\u001b[0;32m   3661\u001b[0m     \u001b[38;5;28;01mraise\u001b[39;00m\n",
      "File \u001b[1;32m~\\anaconda3\\Lib\\site-packages\\pandas\\core\\indexes\\base.py:5737\u001b[0m, in \u001b[0;36mIndex._check_indexing_error\u001b[1;34m(self, key)\u001b[0m\n\u001b[0;32m   5733\u001b[0m \u001b[38;5;28;01mdef\u001b[39;00m \u001b[38;5;21m_check_indexing_error\u001b[39m(\u001b[38;5;28mself\u001b[39m, key):\n\u001b[0;32m   5734\u001b[0m     \u001b[38;5;28;01mif\u001b[39;00m \u001b[38;5;129;01mnot\u001b[39;00m is_scalar(key):\n\u001b[0;32m   5735\u001b[0m         \u001b[38;5;66;03m# if key is not a scalar, directly raise an error (the code below\u001b[39;00m\n\u001b[0;32m   5736\u001b[0m         \u001b[38;5;66;03m# would convert to numpy arrays and raise later any way) - GH29926\u001b[39;00m\n\u001b[1;32m-> 5737\u001b[0m         \u001b[38;5;28;01mraise\u001b[39;00m InvalidIndexError(key)\n",
      "\u001b[1;31mInvalidIndexError\u001b[0m: (slice(None, None, None), 0)"
     ]
    }
   ],
   "source": [
    "plt.scatter(X_test[:, 0], X_test[:, 1], c=anomaly_scores_test, cmap='viridis', s=50, edgecolors='k')\n",
    "plt.colorbar(label='Anomaly Score')\n",
    "plt.title('LOF Anomaly Scores - Test Data')\n",
    "plt.xlabel('Feature 1')\n",
    "plt.ylabel('Feature 2')\n",
    "plt.show()"
   ]
  },
  {
   "cell_type": "code",
   "execution_count": 75,
   "id": "e750b0b6",
   "metadata": {},
   "outputs": [
    {
     "name": "stdout",
     "output_type": "stream",
     "text": [
      "Value: -1, Count: 1245\n",
      "Value: 1, Count: 10061\n"
     ]
    }
   ],
   "source": [
    "# Get unique values and their counts\n",
    "unique_values, counts = np.unique(y_pred_test, return_counts=True)\n",
    "\n",
    "# Print unique values and their counts\n",
    "for value, count in zip(unique_values, counts):\n",
    "    print(f\"Value: {value}, Count: {count}\")"
   ]
  },
  {
   "cell_type": "code",
   "execution_count": 76,
   "id": "d23ce320",
   "metadata": {},
   "outputs": [],
   "source": [
    "# clf = LocalOutlierFactor(contamination=0.1)\n",
    "# y_pred = clf.fit_predict(merged_cash_book_encoded)\n",
    "\n",
    "# # Plot the results\n",
    "# plt.scatter(merged_cash_book_encoded[:, 0], merged_cash_book_encoded[:, 1], color='k', s=3, label='Data points')\n",
    "# plt.scatter(merged_cash_book_encoded[y_pred == -1, 0], merged_cash_book_encoded[y_pred == -1, 1], color='r', s=30, marker='x', label='Outliers')\n",
    "# plt.title(\"Local Outlier Factor (LOF)\")\n",
    "# plt.legend()\n",
    "# plt.show()"
   ]
  },
  {
   "cell_type": "code",
   "execution_count": 77,
   "id": "0a117a3a",
   "metadata": {},
   "outputs": [],
   "source": [
    "# import numpy as np\n",
    "\n",
    "# # Get unique values and their counts\n",
    "# unique_values, counts = np.unique(y_pred, return_counts=True)\n",
    "\n",
    "# # Print unique values and their counts\n",
    "# for value, count in zip(unique_values, counts):\n",
    "#     print(f\"Value: {value}, Count: {count}\")"
   ]
  },
  {
   "cell_type": "code",
   "execution_count": 242,
   "id": "9083c6bd",
   "metadata": {},
   "outputs": [
    {
     "name": "stdout",
     "output_type": "stream",
     "text": [
      "User Inputs DataFrame:\n",
      "  DOCTYPE CURRENCYAMOUNT  year month day PAYMENTMETHOD JOURNAL     CODE\n",
      "0      PV            100  1970     1  19       301-003    BANK  719-189\n",
      "User Inputs DataFrame:\n",
      "  DOCTYPE CURRENCYAMOUNT  year month day PAYMENTMETHOD JOURNAL     CODE\n",
      "0      PV            100  1970     1  19       301-003    BANK  719-189\n",
      "1      PV           1800  1970     1  19       301-003    BANK  719-189\n",
      "User Inputs DataFrame:\n",
      "  DOCTYPE CURRENCYAMOUNT  year month day PAYMENTMETHOD JOURNAL     CODE\n",
      "0      PV            100  1970     1  19       301-003    BANK  719-189\n",
      "1      PV           1800  1970     1  19       301-003    BANK  719-189\n",
      "2      PV             20  1970     1  19       301-003    BANK  719-189\n",
      "User Inputs DataFrame:\n",
      "  DOCTYPE CURRENCYAMOUNT  year month day PAYMENTMETHOD JOURNAL     CODE\n",
      "0      PV            100  1970     1  19       301-003    BANK  719-189\n",
      "1      PV           1800  1970     1  19       301-003    BANK  719-189\n",
      "2      PV             20  1970     1  19       301-003    BANK  719-189\n",
      "3      PV            350  1970     1  19       301-003    BANK  719-189\n",
      "User Inputs DataFrame:\n",
      "  DOCTYPE CURRENCYAMOUNT  year month day PAYMENTMETHOD JOURNAL     CODE\n",
      "0      PV            100  1970     1  19       301-003    BANK  719-189\n",
      "1      PV           1800  1970     1  19       301-003    BANK  719-189\n",
      "2      PV             20  1970     1  19       301-003    BANK  719-189\n",
      "3      PV            350  1970     1  19       301-003    BANK  719-189\n",
      "4      PV           2500  1970     1  19       301-003    BANK  719-189\n",
      "User Inputs DataFrame:\n",
      "  DOCTYPE CURRENCYAMOUNT  year month day PAYMENTMETHOD JOURNAL     CODE\n",
      "0      PV            100  1970     1  19       301-003    BANK  719-189\n",
      "1      PV           1800  1970     1  19       301-003    BANK  719-189\n",
      "2      PV             20  1970     1  19       301-003    BANK  719-189\n",
      "3      PV            350  1970     1  19       301-003    BANK  719-189\n",
      "4      PV           2500  1970     1  19       301-003    BANK  719-189\n",
      "5      PV           2200  1970     1  19       301-003    BANK  719-189\n",
      "User Inputs DataFrame:\n",
      "  DOCTYPE CURRENCYAMOUNT  year month day PAYMENTMETHOD JOURNAL     CODE\n",
      "0      PV            100  1970     1  19       301-003    BANK  719-189\n",
      "1      PV           1800  1970     1  19       301-003    BANK  719-189\n",
      "2      PV             20  1970     1  19       301-003    BANK  719-189\n",
      "3      PV            350  1970     1  19       301-003    BANK  719-189\n",
      "4      PV           2500  1970     1  19       301-003    BANK  719-189\n",
      "5      PV           2200  1970     1  19       301-003    BANK  719-189\n",
      "6      PV             13  1970     1  19       301-003    BANK  719-189\n"
     ]
    }
   ],
   "source": [
    "import tkinter as tk\n",
    "from tkinter import simpledialog\n",
    "\n",
    "import tkinter as tk\n",
    "import pandas as pd\n",
    "\n",
    "# Global DataFrame variable\n",
    "user_data_df = pd.DataFrame(columns=[\"DOCTYPE\", \"CURRENCYAMOUNT\",\"year\", \"month\", \"day\",\"PAYMENTMETHOD\", \"JOURNAL\", \"CODE\" ])\n",
    "\n",
    "def get_user_input():\n",
    "    global user_data_df  # Declare the global variable\n",
    "\n",
    "    # Retrieve user inputs\n",
    "    doctype = doctype_entry.get()\n",
    "    docyear = docyear_entry.get()\n",
    "    docmonth = docmonth_entry.get()\n",
    "    docday = docday_entry.get()\n",
    "    payment_method = payment_method_entry.get()\n",
    "    journal = journal_entry.get()\n",
    "    code = code_entry.get()\n",
    "    currency_amount = currency_amount_entry.get()\n",
    "\n",
    "    # Append user inputs to the global DataFrame\n",
    "    user_data_df.loc[len(user_data_df.index)] = [doctype, currency_amount, docyear, docmonth, docday, payment_method, journal, code] \n",
    "#     user_data_df.extend({\n",
    "#         \"DOCTYPE\": doctype,\n",
    "#         \"DOCDATE\": docdate,\n",
    "#         \"PAYMENTMETHOD\": payment_method,\n",
    "#         \"JOURNAL\": journal,\n",
    "#         \"CODE\": code,\n",
    "#         \"CURRENCYAMOUNT\": currency_amount,\n",
    "#     }, ignore_index=True)\n",
    "\n",
    "#     # Display the updated DataFrame\n",
    "    print(\"User Inputs DataFrame:\")\n",
    "    print(user_data_df)\n",
    "\n",
    "\n",
    "\n",
    "# Create the main Tkinter window\n",
    "root = tk.Tk()\n",
    "root.title(\"User Input Form\")\n",
    "\n",
    "# Create a frame to contain the input fields\n",
    "input_frame = tk.Frame(root)\n",
    "input_frame.pack(padx=20, pady=20)\n",
    "\n",
    "# Create and place Entry widgets for user input\n",
    "tk.Label(input_frame, text=\"DOCTYPE:\").grid(row=0, column=0, padx=10, pady=5)\n",
    "doctype_entry = tk.Entry(input_frame)\n",
    "doctype_entry.grid(row=0, column=1, padx=10, pady=5)\n",
    "\n",
    "tk.Label(input_frame, text=\"DOCYEAR:\").grid(row=1, column=0, padx=10, pady=5)\n",
    "docyear_entry = tk.Entry(input_frame)\n",
    "docyear_entry.grid(row=1, column=1, padx=10, pady=5)\n",
    "\n",
    "tk.Label(input_frame, text=\"DOCMONTH:\").grid(row=2, column=0, padx=10, pady=5)\n",
    "docmonth_entry = tk.Entry(input_frame)\n",
    "docmonth_entry.grid(row=2, column=1, padx=10, pady=5)\n",
    "\n",
    "tk.Label(input_frame, text=\"DOCDAY:\").grid(row=3, column=0, padx=10, pady=5)\n",
    "docday_entry = tk.Entry(input_frame)\n",
    "docday_entry.grid(row=3, column=1, padx=10, pady=5)\n",
    "\n",
    "tk.Label(input_frame, text=\"PAYMENTMETHOD:\").grid(row=4, column=0, padx=10, pady=5)\n",
    "payment_method_entry = tk.Entry(input_frame)\n",
    "payment_method_entry.grid(row=4, column=1, padx=10, pady=5)\n",
    "\n",
    "tk.Label(input_frame, text=\"JOURNAL:\").grid(row=5, column=0, padx=10, pady=5)\n",
    "journal_entry = tk.Entry(input_frame)\n",
    "journal_entry.grid(row=5, column=1, padx=10, pady=5)\n",
    "\n",
    "tk.Label(input_frame, text=\"CODE:\").grid(row=6, column=0, padx=10, pady=5)\n",
    "code_entry = tk.Entry(input_frame)\n",
    "code_entry.grid(row=6, column=1, padx=10, pady=5)\n",
    "\n",
    "tk.Label(input_frame, text=\"CURRENCYAMOUNT:\").grid(row=7, column=0, padx=10, pady=5)\n",
    "currency_amount_entry = tk.Entry(input_frame)\n",
    "currency_amount_entry.grid(row=7, column=1, padx=10, pady=5)\n",
    "\n",
    "# Create a button to trigger the user input retrieval\n",
    "submit_button = tk.Button(root, text=\"Submit\", command=get_user_input)\n",
    "submit_button.pack(pady=10)\n",
    "\n",
    "# Run the Tkinter event loop\n",
    "root.mainloop()\n"
   ]
  },
  {
   "cell_type": "code",
   "execution_count": null,
   "id": "f10efbb7",
   "metadata": {},
   "outputs": [],
   "source": []
  },
  {
   "cell_type": "code",
   "execution_count": 243,
   "id": "3c3e5d49",
   "metadata": {
    "scrolled": false
   },
   "outputs": [
    {
     "data": {
      "text/html": [
       "<div>\n",
       "<style scoped>\n",
       "    .dataframe tbody tr th:only-of-type {\n",
       "        vertical-align: middle;\n",
       "    }\n",
       "\n",
       "    .dataframe tbody tr th {\n",
       "        vertical-align: top;\n",
       "    }\n",
       "\n",
       "    .dataframe thead th {\n",
       "        text-align: right;\n",
       "    }\n",
       "</style>\n",
       "<table border=\"1\" class=\"dataframe\">\n",
       "  <thead>\n",
       "    <tr style=\"text-align: right;\">\n",
       "      <th></th>\n",
       "      <th>DOCTYPE</th>\n",
       "      <th>CURRENCYAMOUNT</th>\n",
       "      <th>year</th>\n",
       "      <th>month</th>\n",
       "      <th>day</th>\n",
       "      <th>PAYMENTMETHOD</th>\n",
       "      <th>JOURNAL</th>\n",
       "      <th>CODE</th>\n",
       "    </tr>\n",
       "  </thead>\n",
       "  <tbody>\n",
       "    <tr>\n",
       "      <th>0</th>\n",
       "      <td>PV</td>\n",
       "      <td>100</td>\n",
       "      <td>1970</td>\n",
       "      <td>1</td>\n",
       "      <td>19</td>\n",
       "      <td>301-003</td>\n",
       "      <td>BANK</td>\n",
       "      <td>719-189</td>\n",
       "    </tr>\n",
       "    <tr>\n",
       "      <th>1</th>\n",
       "      <td>PV</td>\n",
       "      <td>1800</td>\n",
       "      <td>1970</td>\n",
       "      <td>1</td>\n",
       "      <td>19</td>\n",
       "      <td>301-003</td>\n",
       "      <td>BANK</td>\n",
       "      <td>719-189</td>\n",
       "    </tr>\n",
       "    <tr>\n",
       "      <th>2</th>\n",
       "      <td>PV</td>\n",
       "      <td>20</td>\n",
       "      <td>1970</td>\n",
       "      <td>1</td>\n",
       "      <td>19</td>\n",
       "      <td>301-003</td>\n",
       "      <td>BANK</td>\n",
       "      <td>719-189</td>\n",
       "    </tr>\n",
       "    <tr>\n",
       "      <th>3</th>\n",
       "      <td>PV</td>\n",
       "      <td>350</td>\n",
       "      <td>1970</td>\n",
       "      <td>1</td>\n",
       "      <td>19</td>\n",
       "      <td>301-003</td>\n",
       "      <td>BANK</td>\n",
       "      <td>719-189</td>\n",
       "    </tr>\n",
       "    <tr>\n",
       "      <th>4</th>\n",
       "      <td>PV</td>\n",
       "      <td>2500</td>\n",
       "      <td>1970</td>\n",
       "      <td>1</td>\n",
       "      <td>19</td>\n",
       "      <td>301-003</td>\n",
       "      <td>BANK</td>\n",
       "      <td>719-189</td>\n",
       "    </tr>\n",
       "    <tr>\n",
       "      <th>5</th>\n",
       "      <td>PV</td>\n",
       "      <td>2200</td>\n",
       "      <td>1970</td>\n",
       "      <td>1</td>\n",
       "      <td>19</td>\n",
       "      <td>301-003</td>\n",
       "      <td>BANK</td>\n",
       "      <td>719-189</td>\n",
       "    </tr>\n",
       "    <tr>\n",
       "      <th>6</th>\n",
       "      <td>PV</td>\n",
       "      <td>13</td>\n",
       "      <td>1970</td>\n",
       "      <td>1</td>\n",
       "      <td>19</td>\n",
       "      <td>301-003</td>\n",
       "      <td>BANK</td>\n",
       "      <td>719-189</td>\n",
       "    </tr>\n",
       "  </tbody>\n",
       "</table>\n",
       "</div>"
      ],
      "text/plain": [
       "  DOCTYPE CURRENCYAMOUNT  year month day PAYMENTMETHOD JOURNAL     CODE\n",
       "0      PV            100  1970     1  19       301-003    BANK  719-189\n",
       "1      PV           1800  1970     1  19       301-003    BANK  719-189\n",
       "2      PV             20  1970     1  19       301-003    BANK  719-189\n",
       "3      PV            350  1970     1  19       301-003    BANK  719-189\n",
       "4      PV           2500  1970     1  19       301-003    BANK  719-189\n",
       "5      PV           2200  1970     1  19       301-003    BANK  719-189\n",
       "6      PV             13  1970     1  19       301-003    BANK  719-189"
      ]
     },
     "execution_count": 243,
     "metadata": {},
     "output_type": "execute_result"
    }
   ],
   "source": [
    "user_data_df"
   ]
  },
  {
   "cell_type": "code",
   "execution_count": 244,
   "id": "55d638b7",
   "metadata": {},
   "outputs": [
    {
     "data": {
      "text/plain": [
       "[['100']]"
      ]
     },
     "execution_count": 244,
     "metadata": {},
     "output_type": "execute_result"
    }
   ],
   "source": [
    "[[user_data_df['CURRENCYAMOUNT'][0]]]"
   ]
  },
  {
   "cell_type": "code",
   "execution_count": 245,
   "id": "cd21776f",
   "metadata": {},
   "outputs": [
    {
     "data": {
      "text/plain": [
       "[['301-003']]"
      ]
     },
     "execution_count": 245,
     "metadata": {},
     "output_type": "execute_result"
    }
   ],
   "source": [
    "[[user_data_df['PAYMENTMETHOD'][0]]]"
   ]
  },
  {
   "cell_type": "code",
   "execution_count": 237,
   "id": "e7d40546",
   "metadata": {},
   "outputs": [],
   "source": [
    "user_data_df = user_data_df.drop(1, axis=0).reset_index(drop=True)"
   ]
  },
  {
   "cell_type": "code",
   "execution_count": 246,
   "id": "e1d1f242",
   "metadata": {},
   "outputs": [],
   "source": [
    "user_data_df['CURRENCYAMOUNT'] = currency_scaler.transform(user_data_df['CURRENCYAMOUNT'].values.reshape(-1, 1))\n",
    "encoded_DOCTYPE_new = pd.DataFrame(type_encoder.transform(user_data_df[['DOCTYPE']]).toarray(), columns=DOCTYPE_names)\n",
    "encoded_PAYMENTMETHOD_new = pd.DataFrame(pm_encoder.transform(user_data_df[['PAYMENTMETHOD']]).toarray(), columns=PM_names)\n",
    "encoded_JOURNAL_new = pd.DataFrame(journal_encoder.transform(user_data_df[['JOURNAL']]).toarray(), columns=journal_names)\n",
    "encoded_CODE_new = pd.DataFrame(code_encoder.transform(user_data_df[['CODE']]).toarray(), columns=Code_names)\n",
    "user_data_df = user_data_df.drop(['DOCTYPE', 'PAYMENTMETHOD','JOURNAL','CODE'], axis = 1)\n",
    "# user_data_df.reset_index(drop=True, inplace=True)\n",
    "# encoded_DOCTYPE_new.reset_index(drop=True, inplace=True)\n",
    "# encoded_PAYMENTMETHOD_new.reset_index(drop=True, inplace=True)\n",
    "# encoded_JOURNAL_new.reset_index(drop=True, inplace=True)\n",
    "# encoded_CODE_new.reset_index(drop=True, inplace=True)\n",
    "user_data_df_encoded = pd.concat([user_data_df, encoded_DOCTYPE_new, encoded_PAYMENTMETHOD_new, encoded_JOURNAL_new, encoded_CODE_new], axis=1)"
   ]
  },
  {
   "cell_type": "code",
   "execution_count": 247,
   "id": "0c0d3dd2",
   "metadata": {},
   "outputs": [
    {
     "data": {
      "text/html": [
       "<div>\n",
       "<style scoped>\n",
       "    .dataframe tbody tr th:only-of-type {\n",
       "        vertical-align: middle;\n",
       "    }\n",
       "\n",
       "    .dataframe tbody tr th {\n",
       "        vertical-align: top;\n",
       "    }\n",
       "\n",
       "    .dataframe thead th {\n",
       "        text-align: right;\n",
       "    }\n",
       "</style>\n",
       "<table border=\"1\" class=\"dataframe\">\n",
       "  <thead>\n",
       "    <tr style=\"text-align: right;\">\n",
       "      <th></th>\n",
       "      <th>CURRENCYAMOUNT</th>\n",
       "      <th>year</th>\n",
       "      <th>month</th>\n",
       "      <th>day</th>\n",
       "      <th>DOCTYPE_OR</th>\n",
       "      <th>DOCTYPE_PV</th>\n",
       "      <th>PAYMENTMETHOD_301-001</th>\n",
       "      <th>PAYMENTMETHOD_301-002</th>\n",
       "      <th>PAYMENTMETHOD_301-003</th>\n",
       "      <th>PAYMENTMETHOD_301-004</th>\n",
       "      <th>...</th>\n",
       "      <th>CODE_795-000</th>\n",
       "      <th>CODE_796-000</th>\n",
       "      <th>CODE_799-000</th>\n",
       "      <th>CODE_801-000</th>\n",
       "      <th>CODE_802-000</th>\n",
       "      <th>CODE_804-000</th>\n",
       "      <th>CODE_950-000</th>\n",
       "      <th>CODE_960-000</th>\n",
       "      <th>CODE_GST-101</th>\n",
       "      <th>CODE_GST-KASTAM</th>\n",
       "    </tr>\n",
       "  </thead>\n",
       "  <tbody>\n",
       "    <tr>\n",
       "      <th>0</th>\n",
       "      <td>0.006375</td>\n",
       "      <td>1970</td>\n",
       "      <td>1</td>\n",
       "      <td>19</td>\n",
       "      <td>0.0</td>\n",
       "      <td>1.0</td>\n",
       "      <td>0.0</td>\n",
       "      <td>0.0</td>\n",
       "      <td>1.0</td>\n",
       "      <td>0.0</td>\n",
       "      <td>...</td>\n",
       "      <td>0.0</td>\n",
       "      <td>0.0</td>\n",
       "      <td>0.0</td>\n",
       "      <td>0.0</td>\n",
       "      <td>0.0</td>\n",
       "      <td>0.0</td>\n",
       "      <td>0.0</td>\n",
       "      <td>0.0</td>\n",
       "      <td>0.0</td>\n",
       "      <td>0.0</td>\n",
       "    </tr>\n",
       "    <tr>\n",
       "      <th>1</th>\n",
       "      <td>0.008152</td>\n",
       "      <td>1970</td>\n",
       "      <td>1</td>\n",
       "      <td>19</td>\n",
       "      <td>0.0</td>\n",
       "      <td>1.0</td>\n",
       "      <td>0.0</td>\n",
       "      <td>0.0</td>\n",
       "      <td>1.0</td>\n",
       "      <td>0.0</td>\n",
       "      <td>...</td>\n",
       "      <td>0.0</td>\n",
       "      <td>0.0</td>\n",
       "      <td>0.0</td>\n",
       "      <td>0.0</td>\n",
       "      <td>0.0</td>\n",
       "      <td>0.0</td>\n",
       "      <td>0.0</td>\n",
       "      <td>0.0</td>\n",
       "      <td>0.0</td>\n",
       "      <td>0.0</td>\n",
       "    </tr>\n",
       "    <tr>\n",
       "      <th>2</th>\n",
       "      <td>0.006292</td>\n",
       "      <td>1970</td>\n",
       "      <td>1</td>\n",
       "      <td>19</td>\n",
       "      <td>0.0</td>\n",
       "      <td>1.0</td>\n",
       "      <td>0.0</td>\n",
       "      <td>0.0</td>\n",
       "      <td>1.0</td>\n",
       "      <td>0.0</td>\n",
       "      <td>...</td>\n",
       "      <td>0.0</td>\n",
       "      <td>0.0</td>\n",
       "      <td>0.0</td>\n",
       "      <td>0.0</td>\n",
       "      <td>0.0</td>\n",
       "      <td>0.0</td>\n",
       "      <td>0.0</td>\n",
       "      <td>0.0</td>\n",
       "      <td>0.0</td>\n",
       "      <td>0.0</td>\n",
       "    </tr>\n",
       "    <tr>\n",
       "      <th>3</th>\n",
       "      <td>0.006637</td>\n",
       "      <td>1970</td>\n",
       "      <td>1</td>\n",
       "      <td>19</td>\n",
       "      <td>0.0</td>\n",
       "      <td>1.0</td>\n",
       "      <td>0.0</td>\n",
       "      <td>0.0</td>\n",
       "      <td>1.0</td>\n",
       "      <td>0.0</td>\n",
       "      <td>...</td>\n",
       "      <td>0.0</td>\n",
       "      <td>0.0</td>\n",
       "      <td>0.0</td>\n",
       "      <td>0.0</td>\n",
       "      <td>0.0</td>\n",
       "      <td>0.0</td>\n",
       "      <td>0.0</td>\n",
       "      <td>0.0</td>\n",
       "      <td>0.0</td>\n",
       "      <td>0.0</td>\n",
       "    </tr>\n",
       "    <tr>\n",
       "      <th>4</th>\n",
       "      <td>0.008884</td>\n",
       "      <td>1970</td>\n",
       "      <td>1</td>\n",
       "      <td>19</td>\n",
       "      <td>0.0</td>\n",
       "      <td>1.0</td>\n",
       "      <td>0.0</td>\n",
       "      <td>0.0</td>\n",
       "      <td>1.0</td>\n",
       "      <td>0.0</td>\n",
       "      <td>...</td>\n",
       "      <td>0.0</td>\n",
       "      <td>0.0</td>\n",
       "      <td>0.0</td>\n",
       "      <td>0.0</td>\n",
       "      <td>0.0</td>\n",
       "      <td>0.0</td>\n",
       "      <td>0.0</td>\n",
       "      <td>0.0</td>\n",
       "      <td>0.0</td>\n",
       "      <td>0.0</td>\n",
       "    </tr>\n",
       "    <tr>\n",
       "      <th>5</th>\n",
       "      <td>0.008570</td>\n",
       "      <td>1970</td>\n",
       "      <td>1</td>\n",
       "      <td>19</td>\n",
       "      <td>0.0</td>\n",
       "      <td>1.0</td>\n",
       "      <td>0.0</td>\n",
       "      <td>0.0</td>\n",
       "      <td>1.0</td>\n",
       "      <td>0.0</td>\n",
       "      <td>...</td>\n",
       "      <td>0.0</td>\n",
       "      <td>0.0</td>\n",
       "      <td>0.0</td>\n",
       "      <td>0.0</td>\n",
       "      <td>0.0</td>\n",
       "      <td>0.0</td>\n",
       "      <td>0.0</td>\n",
       "      <td>0.0</td>\n",
       "      <td>0.0</td>\n",
       "      <td>0.0</td>\n",
       "    </tr>\n",
       "    <tr>\n",
       "      <th>6</th>\n",
       "      <td>0.006284</td>\n",
       "      <td>1970</td>\n",
       "      <td>1</td>\n",
       "      <td>19</td>\n",
       "      <td>0.0</td>\n",
       "      <td>1.0</td>\n",
       "      <td>0.0</td>\n",
       "      <td>0.0</td>\n",
       "      <td>1.0</td>\n",
       "      <td>0.0</td>\n",
       "      <td>...</td>\n",
       "      <td>0.0</td>\n",
       "      <td>0.0</td>\n",
       "      <td>0.0</td>\n",
       "      <td>0.0</td>\n",
       "      <td>0.0</td>\n",
       "      <td>0.0</td>\n",
       "      <td>0.0</td>\n",
       "      <td>0.0</td>\n",
       "      <td>0.0</td>\n",
       "      <td>0.0</td>\n",
       "    </tr>\n",
       "  </tbody>\n",
       "</table>\n",
       "<p>7 rows × 1194 columns</p>\n",
       "</div>"
      ],
      "text/plain": [
       "   CURRENCYAMOUNT  year month day  DOCTYPE_OR  DOCTYPE_PV  \\\n",
       "0        0.006375  1970     1  19         0.0         1.0   \n",
       "1        0.008152  1970     1  19         0.0         1.0   \n",
       "2        0.006292  1970     1  19         0.0         1.0   \n",
       "3        0.006637  1970     1  19         0.0         1.0   \n",
       "4        0.008884  1970     1  19         0.0         1.0   \n",
       "5        0.008570  1970     1  19         0.0         1.0   \n",
       "6        0.006284  1970     1  19         0.0         1.0   \n",
       "\n",
       "   PAYMENTMETHOD_301-001  PAYMENTMETHOD_301-002  PAYMENTMETHOD_301-003  \\\n",
       "0                    0.0                    0.0                    1.0   \n",
       "1                    0.0                    0.0                    1.0   \n",
       "2                    0.0                    0.0                    1.0   \n",
       "3                    0.0                    0.0                    1.0   \n",
       "4                    0.0                    0.0                    1.0   \n",
       "5                    0.0                    0.0                    1.0   \n",
       "6                    0.0                    0.0                    1.0   \n",
       "\n",
       "   PAYMENTMETHOD_301-004  ...  CODE_795-000  CODE_796-000  CODE_799-000  \\\n",
       "0                    0.0  ...           0.0           0.0           0.0   \n",
       "1                    0.0  ...           0.0           0.0           0.0   \n",
       "2                    0.0  ...           0.0           0.0           0.0   \n",
       "3                    0.0  ...           0.0           0.0           0.0   \n",
       "4                    0.0  ...           0.0           0.0           0.0   \n",
       "5                    0.0  ...           0.0           0.0           0.0   \n",
       "6                    0.0  ...           0.0           0.0           0.0   \n",
       "\n",
       "   CODE_801-000  CODE_802-000  CODE_804-000  CODE_950-000  CODE_960-000  \\\n",
       "0           0.0           0.0           0.0           0.0           0.0   \n",
       "1           0.0           0.0           0.0           0.0           0.0   \n",
       "2           0.0           0.0           0.0           0.0           0.0   \n",
       "3           0.0           0.0           0.0           0.0           0.0   \n",
       "4           0.0           0.0           0.0           0.0           0.0   \n",
       "5           0.0           0.0           0.0           0.0           0.0   \n",
       "6           0.0           0.0           0.0           0.0           0.0   \n",
       "\n",
       "   CODE_GST-101  CODE_GST-KASTAM  \n",
       "0           0.0              0.0  \n",
       "1           0.0              0.0  \n",
       "2           0.0              0.0  \n",
       "3           0.0              0.0  \n",
       "4           0.0              0.0  \n",
       "5           0.0              0.0  \n",
       "6           0.0              0.0  \n",
       "\n",
       "[7 rows x 1194 columns]"
      ]
     },
     "execution_count": 247,
     "metadata": {},
     "output_type": "execute_result"
    }
   ],
   "source": [
    "user_data_df_encoded"
   ]
  },
  {
   "cell_type": "code",
   "execution_count": 248,
   "id": "df2e8b4d",
   "metadata": {},
   "outputs": [
    {
     "name": "stderr",
     "output_type": "stream",
     "text": [
      "C:\\Users\\Dan\\anaconda3\\Lib\\site-packages\\sklearn\\base.py:464: UserWarning: X does not have valid feature names, but LocalOutlierFactor was fitted with feature names\n",
      "  warnings.warn(\n"
     ]
    }
   ],
   "source": [
    "y_pred_new = lof.predict(user_data_df_encoded)"
   ]
  },
  {
   "cell_type": "code",
   "execution_count": 249,
   "id": "4334767c",
   "metadata": {},
   "outputs": [
    {
     "name": "stdout",
     "output_type": "stream",
     "text": [
      "[ 1 -1  1 -1 -1 -1  1]\n"
     ]
    }
   ],
   "source": [
    "print(y_pred_new)"
   ]
  },
  {
   "cell_type": "code",
   "execution_count": null,
   "id": "a05bfaf4",
   "metadata": {},
   "outputs": [],
   "source": []
  },
  {
   "cell_type": "code",
   "execution_count": null,
   "id": "469cf39a",
   "metadata": {},
   "outputs": [],
   "source": []
  }
 ],
 "metadata": {
  "kernelspec": {
   "display_name": "Python 3 (ipykernel)",
   "language": "python",
   "name": "python3"
  },
  "language_info": {
   "codemirror_mode": {
    "name": "ipython",
    "version": 3
   },
   "file_extension": ".py",
   "mimetype": "text/x-python",
   "name": "python",
   "nbconvert_exporter": "python",
   "pygments_lexer": "ipython3",
   "version": "3.11.5"
  }
 },
 "nbformat": 4,
 "nbformat_minor": 5
}
